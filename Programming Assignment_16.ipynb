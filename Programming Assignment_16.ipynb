{
 "cells": [
  {
   "cell_type": "markdown",
   "id": "e304dc88",
   "metadata": {},
   "source": [
    "## Python Basic Programming Assignment 16\n",
    "---------------------"
   ]
  },
  {
   "cell_type": "markdown",
   "id": "d82eeee0",
   "metadata": {},
   "source": [
    "### 1. Write a function that stutters a word as if someone is struggling to read it. The first two letters are repeated twice with an ellipsis ... and space after each, and then the word is pronounced with a question mark ?. Examples stutter('incredible') ➞ 'in... in... incredible?' stutter('enthusiastic') ➞ 'en... en... enthusiastic?' stutter('outstanding') ➞ 'ou... ou... outstanding?'\n",
    "\n",
    "### Hint :- Assume all input is in lower case and at least two characters long."
   ]
  },
  {
   "cell_type": "code",
   "execution_count": 1,
   "id": "0eb17e39",
   "metadata": {},
   "outputs": [],
   "source": [
    "def stutter(word):\n",
    "    stuttered_word = word[:2] + \"... \" + word[:2] + \"... \" + word + \"?\"\n",
    "    return stuttered_word"
   ]
  },
  {
   "cell_type": "code",
   "execution_count": 3,
   "id": "5890d7cc",
   "metadata": {},
   "outputs": [
    {
     "name": "stdout",
     "output_type": "stream",
     "text": [
      "in... in... incredible?\n",
      "en... en... enthusiastic?\n",
      "ou... ou... outstanding?\n"
     ]
    }
   ],
   "source": [
    "print(stutter(\"incredible\"))\n",
    "print(stutter(\"enthusiastic\"))\n",
    "print(stutter(\"outstanding\"))\n"
   ]
  },
  {
   "attachments": {},
   "cell_type": "markdown",
   "id": "47e1bd41",
   "metadata": {},
   "source": [
    "### 2. Create a function that takes an angle in radians and returns the corresponding angle in degrees rounded to one decimal place."
   ]
  },
  {
   "attachments": {},
   "cell_type": "markdown",
   "id": "f3265fd5",
   "metadata": {},
   "source": [
    "degrees = radians * 180 / pi\n"
   ]
  },
  {
   "cell_type": "code",
   "execution_count": 4,
   "id": "6367a325",
   "metadata": {},
   "outputs": [],
   "source": [
    "from math import pi\n",
    "\n",
    "def radians_to_degrees(radians):\n",
    "    degrees = radians * 180 / pi\n",
    "    return round(degrees, 1)\n"
   ]
  },
  {
   "cell_type": "code",
   "execution_count": 9,
   "id": "77e049c9",
   "metadata": {},
   "outputs": [
    {
     "name": "stdout",
     "output_type": "stream",
     "text": [
      "0.0\n",
      "180.0\n",
      "90.0\n"
     ]
    }
   ],
   "source": [
    "print(radians_to_degrees(0))   # Output: 0.0\n",
    "print(radians_to_degrees(pi))  # Output: 180.0\n",
    "print(radians_to_degrees(pi/2)) # Output: 90.0"
   ]
  },
  {
   "cell_type": "markdown",
   "id": "07cad4d9",
   "metadata": {},
   "source": [
    "\n",
    "### 3. In this challenge, establish if a given integer num is a Curzon number. If 1 plus 2 elevated to num is exactly divisible by 1 plus 2 multiplied by num, then num is a Curzon number. Given a non-negative integer num, implement a function that returns True if num is a Curzon number, or False otherwise."
   ]
  },
  {
   "cell_type": "code",
   "execution_count": 10,
   "id": "c3c25441",
   "metadata": {},
   "outputs": [],
   "source": [
    "def is_curzon_number(num):\n",
    "    numerator = 1 + 2**num\n",
    "    denominator = 1 + 2*num\n",
    "    return numerator % denominator == 0\n"
   ]
  },
  {
   "cell_type": "code",
   "execution_count": 13,
   "id": "77ebccf4",
   "metadata": {},
   "outputs": [
    {
     "name": "stdout",
     "output_type": "stream",
     "text": [
      "True\n",
      "False\n"
     ]
    }
   ],
   "source": [
    "print(is_curzon_number(6))  # Output: True\n",
    "print(is_curzon_number(20)) # Output: False"
   ]
  },
  {
   "attachments": {},
   "cell_type": "markdown",
   "id": "cfad2cfc",
   "metadata": {},
   "source": [
    "### 4. Given the side length x find the area of a hexagon."
   ]
  },
  {
   "cell_type": "code",
   "execution_count": 14,
   "id": "5e7db5cc",
   "metadata": {},
   "outputs": [],
   "source": [
    "from math import sqrt\n",
    "\n",
    "def area_of_hexagon(x):\n",
    "    area = (3 * sqrt(3) * x**2) / 2\n",
    "    return area"
   ]
  },
  {
   "cell_type": "code",
   "execution_count": 17,
   "id": "1c18dc77",
   "metadata": {},
   "outputs": [
    {
     "name": "stdout",
     "output_type": "stream",
     "text": [
      "93.53074360871938\n"
     ]
    }
   ],
   "source": [
    "print(area_of_hexagon(6)) # Output: 93.53074360871938"
   ]
  },
  {
   "attachments": {},
   "cell_type": "markdown",
   "id": "dbc79e02",
   "metadata": {},
   "source": [
    "### 5. Create a function that returns a base-2 (binary) representation of a base-10 (decimal) string number. To convert is simple: ((2) means base-2 and (10) means base-10) 010101001(2) = 1 + 8 + 32 + 128."
   ]
  },
  {
   "cell_type": "code",
   "execution_count": 18,
   "id": "cc845b03",
   "metadata": {},
   "outputs": [],
   "source": [
    "def decimal_to_binary(decimal):\n",
    "    binary = bin(int(decimal))[2:]\n",
    "    return binary"
   ]
  },
  {
   "cell_type": "code",
   "execution_count": 20,
   "id": "bc2de992",
   "metadata": {},
   "outputs": [
    {
     "name": "stdout",
     "output_type": "stream",
     "text": [
      "10100\n"
     ]
    }
   ],
   "source": [
    "print(decimal_to_binary('20')) # Output: '10100'"
   ]
  }
 ],
 "metadata": {
  "kernelspec": {
   "display_name": "Python 3 (ipykernel)",
   "language": "python",
   "name": "python3"
  },
  "language_info": {
   "codemirror_mode": {
    "name": "ipython",
    "version": 3
   },
   "file_extension": ".py",
   "mimetype": "text/x-python",
   "name": "python",
   "nbconvert_exporter": "python",
   "pygments_lexer": "ipython3",
   "version": "3.10.10"
  }
 },
 "nbformat": 4,
 "nbformat_minor": 5
}
