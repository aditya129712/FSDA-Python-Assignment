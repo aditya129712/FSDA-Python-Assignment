{
 "cells": [
  {
   "cell_type": "markdown",
   "id": "35297a20",
   "metadata": {},
   "source": [
    "## Programming Basic Assignment 7"
   ]
  },
  {
   "cell_type": "markdown",
   "id": "27349114",
   "metadata": {},
   "source": [
    "### 1. Write a Python Program to find sum of array?"
   ]
  },
  {
   "cell_type": "code",
   "execution_count": 16,
   "id": "f6d46c26",
   "metadata": {},
   "outputs": [
    {
     "name": "stdout",
     "output_type": "stream",
     "text": [
      "Sum of array is : 259\n"
     ]
    }
   ],
   "source": [
    "# Python Program to find sum of array\n",
    "\n",
    "def sum_(arr):\n",
    "    \n",
    "    sum = 0\n",
    "    \n",
    "    for i in arr:\n",
    "        sum = sum + i\n",
    "        \n",
    "    return(sum)   \n",
    "\n",
    " \n",
    "#Input values\n",
    "arr = []\n",
    "arr = [25,56,96,35,47]\n",
    "a = len(arr)\n",
    "\n",
    "final_cal = sum_(arr)\n",
    "\n",
    "#print the value\n",
    "print('Sum of array is :',final_cal)\n",
    "    "
   ]
  },
  {
   "cell_type": "markdown",
   "id": "171a980d",
   "metadata": {},
   "source": [
    "### 2. Write a Python Program to find largest element in an array?\n"
   ]
  },
  {
   "cell_type": "code",
   "execution_count": 19,
   "id": "275273ae",
   "metadata": {},
   "outputs": [
    {
     "name": "stdout",
     "output_type": "stream",
     "text": [
      "Lagrest array is: 9685\n"
     ]
    }
   ],
   "source": [
    "# Python Program to find largest element in an array\n",
    "\n",
    "def large(arr,n):\n",
    "    max = arr[0]\n",
    "    \n",
    "    for i in range(1,n):\n",
    "        if arr[i] > max:\n",
    "            max = arr[i]\n",
    "    return max\n",
    "\n",
    "# Input values\n",
    "arr = [47,89,96,306,696,7895,9685]\n",
    "n = len(arr)\n",
    "final_output = large(arr,n)\n",
    "\n",
    "# Print values\n",
    "print('Lagrest array is:',final_output)\n",
    "            "
   ]
  },
  {
   "cell_type": "markdown",
   "id": "21613246",
   "metadata": {},
   "source": [
    "### 3. Write a Python Program for array rotation?"
   ]
  },
  {
   "cell_type": "code",
   "execution_count": 24,
   "id": "a1822a07",
   "metadata": {},
   "outputs": [
    {
     "name": "stdout",
     "output_type": "stream",
     "text": [
      "Array after left rotation is: [13, 14, 15, 16, 17, 18, 19, 20, 11, 12]\n"
     ]
    }
   ],
   "source": [
    "# Python Program for array rotation\n",
    "# Using Temporary Array\n",
    "def rotateArray(a,d):\n",
    "    temp = []\n",
    "    n = len(a)\n",
    "    for i in range(d,n):\n",
    "        temp.append(a[i])\n",
    "    i = 0\n",
    "    for i in range(0,d):\n",
    "        temp.append(a[i])\n",
    "    a = temp.copy()\n",
    "    return a\n",
    "\n",
    "arr = [11,12,13,14,15,16,17,18,19,20]\n",
    "print(\"Array after left rotation is:\", end=' ')\n",
    "print(rotateArray(arr, 2))     \n"
   ]
  },
  {
   "cell_type": "markdown",
   "id": "3e52d939",
   "metadata": {},
   "source": [
    "### 4. Write a Python Program to Split the array and add the first part to the end?"
   ]
  },
  {
   "cell_type": "code",
   "execution_count": 27,
   "id": "e07eda4a",
   "metadata": {},
   "outputs": [
    {
     "name": "stdout",
     "output_type": "stream",
     "text": [
      "36 45 49 51 55 62 75 26 29 32 35 "
     ]
    }
   ],
   "source": [
    "# Python Program to Split the array and add the first part to the end\n",
    "\n",
    "def SplitArray(arr, n, k):\n",
    "    for i in range(0,k):\n",
    "        x = arr[0]\n",
    "        for j in range(0, n-1):\n",
    "            arr[j] = arr[j+1]\n",
    "        \n",
    "        arr[n-1] = x\n",
    "arr = [26,29,32,35,36,45,49,51,55,62,75]        \n",
    "n = len(arr)\n",
    "position = 4\n",
    "SplitArray(arr, n, position)\n",
    "for i in range(0, n):\n",
    "    print(arr[i], end = ' ')"
   ]
  },
  {
   "cell_type": "markdown",
   "id": "aa375779",
   "metadata": {},
   "source": [
    "### 5. Write a Python Program to check if given array is Monotonic?"
   ]
  },
  {
   "cell_type": "code",
   "execution_count": 29,
   "id": "9d4f4430",
   "metadata": {},
   "outputs": [
    {
     "name": "stdout",
     "output_type": "stream",
     "text": [
      "True\n"
     ]
    }
   ],
   "source": [
    "# Python Program to check if given array is Monotonic\n",
    "\n",
    "def Monotone(M):\n",
    "\tx, y = [], []\n",
    "\tx.extend(M)\n",
    "\ty.extend(M)\n",
    "\tx.sort()\n",
    "\ty.sort(reverse=True)\n",
    "\tif(x == M or y == M):\n",
    "\t\treturn True\n",
    "\treturn False\n",
    "\n",
    "\n",
    "# Input Values\n",
    "M = [52, 45, 42, 40]\n",
    "\n",
    "# PrintValues\n",
    "print(Monotone(M))\n"
   ]
  }
 ],
 "metadata": {
  "kernelspec": {
   "display_name": "Python 3",
   "language": "python",
   "name": "python3"
  },
  "language_info": {
   "codemirror_mode": {
    "name": "ipython",
    "version": 3
   },
   "file_extension": ".py",
   "mimetype": "text/x-python",
   "name": "python",
   "nbconvert_exporter": "python",
   "pygments_lexer": "ipython3",
   "version": "3.10.7"
  },
  "vscode": {
   "interpreter": {
    "hash": "27f6fea6f47ae512550f0b8facdbd035a93e1dd89633f7bf2dd00a2502c71d0d"
   }
  }
 },
 "nbformat": 4,
 "nbformat_minor": 5
}
