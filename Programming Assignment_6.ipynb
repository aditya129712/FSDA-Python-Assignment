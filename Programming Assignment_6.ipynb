{
 "cells": [
  {
   "cell_type": "markdown",
   "id": "84a41a9f",
   "metadata": {},
   "source": [
    "# Programming Basic Assignment 6"
   ]
  },
  {
   "cell_type": "markdown",
   "id": "a4b40558",
   "metadata": {},
   "source": [
    "### 1. Write a Python Program to Display Fibonacci Sequence Using Recursion?"
   ]
  },
  {
   "cell_type": "code",
   "execution_count": 4,
   "id": "70707e1b",
   "metadata": {},
   "outputs": [
    {
     "name": "stdout",
     "output_type": "stream",
     "text": [
      "Fibonacci sequence:\n",
      "0\n",
      "1\n",
      "1\n",
      "2\n",
      "3\n",
      "5\n",
      "8\n",
      "13\n",
      "21\n",
      "34\n",
      "55\n",
      "89\n",
      "144\n",
      "233\n",
      "377\n"
     ]
    }
   ],
   "source": [
    "# Python Program to Display Fibonacci Sequence Using Recursion\n",
    "\n",
    "def fibo_rec(n):\n",
    "   if n <= 1:\n",
    "       return n\n",
    "   else:\n",
    "       return(fibo_rec(n-1) + fibo_rec(n-2))\n",
    "\n",
    "nth_term = 15\n",
    "\n",
    "# check whether the number of terms is valid or not\n",
    "if nth_term <= 0:\n",
    "   print(\"Enter a +ve integer\")\n",
    "else:\n",
    "   print(\"Fibonacci sequence:\")\n",
    "   for i in range(nth_term):\n",
    "       print(fibo_rec(i))"
   ]
  },
  {
   "cell_type": "markdown",
   "id": "d7a57f60",
   "metadata": {},
   "source": [
    "### 2. Write a Python Program to Find Factorial of Number Using Recursion?"
   ]
  },
  {
   "cell_type": "code",
   "execution_count": 5,
   "id": "5eed17a3",
   "metadata": {},
   "outputs": [
    {
     "name": "stdout",
     "output_type": "stream",
     "text": [
      "The factorial of 12 is 479001600\n"
     ]
    }
   ],
   "source": [
    "# Python Program to Find Factorial of Number Using Recursion\n",
    "\n",
    "def fac_rec(n):\n",
    "   if n == 1:\n",
    "       return n\n",
    "   else:\n",
    "       return n*fac_rec(n-1)\n",
    "\n",
    "num = 12\n",
    "\n",
    "# check whether the number is -ve\n",
    "if num < 0:\n",
    "   print(\"Factorial does not exist for the -ve numbers\")\n",
    "elif num == 0:\n",
    "   print(\"The factorial of 0 is 1\")\n",
    "else:\n",
    "   print(\"The factorial of\", num, \"is\", fac_rec(num))"
   ]
  },
  {
   "cell_type": "markdown",
   "id": "0357b86f",
   "metadata": {},
   "source": [
    "### 3. Write a Python Program to calculate your Body Mass Index?"
   ]
  },
  {
   "cell_type": "code",
   "execution_count": 8,
   "id": "ce578534",
   "metadata": {},
   "outputs": [
    {
     "name": "stdout",
     "output_type": "stream",
     "text": [
      " Body mass index is:  2.41\n"
     ]
    }
   ],
   "source": [
    "# Python Program to calculate your Body Mass Index\n",
    "height = eval(input(\"Enter your height in Feet: \"))\n",
    "\n",
    "weight = eval(input(\"Enter your weight in Kilogram: \"))\n",
    "\n",
    "\n",
    "print(\" Body mass index is: \", round(weight / (height * height), 2))"
   ]
  },
  {
   "cell_type": "markdown",
   "id": "96d344a4",
   "metadata": {},
   "source": [
    "### 4. Write a Python Program to calculate the natural logarithm of any number?"
   ]
  },
  {
   "cell_type": "code",
   "execution_count": 10,
   "id": "76d17741",
   "metadata": {},
   "outputs": [
    {
     "name": "stdout",
     "output_type": "stream",
     "text": [
      "Logarithm base 2 of 12 is : 3.584962500721156\n"
     ]
    }
   ],
   "source": [
    "# Python Program to calculate the natural logarithm of any number\n",
    "import math\n",
    " \n",
    "# Printing the log base 2 of 12\n",
    "print (\"Logarithm base 2 of 12 is : \", end=\"\")\n",
    "print (math.log2(12))"
   ]
  },
  {
   "cell_type": "markdown",
   "id": "11c0d92c",
   "metadata": {},
   "source": [
    "\n",
    "### 5. Write a Python Program for cube sum of first n natural numbers?\n"
   ]
  },
  {
   "cell_type": "code",
   "execution_count": 13,
   "id": "39faf1d5",
   "metadata": {},
   "outputs": [
    {
     "name": "stdout",
     "output_type": "stream",
     "text": [
      "sum of cubes of first 5 natural numbers:  225\n"
     ]
    }
   ],
   "source": [
    "# Python Program for cube sum of first n natural numbers\n",
    "def sum_cube(n):\n",
    "    a = 0\n",
    "    for i in range(n+1):\n",
    "        a+=i**3\n",
    "    return a\n",
    "num = eval(input(\"enter num: \"))\n",
    "print(\"sum of cubes of first {} natural numbers: \".format(num),sum_cube(num))"
   ]
  }
 ],
 "metadata": {
  "kernelspec": {
   "display_name": "Python 3",
   "language": "python",
   "name": "python3"
  },
  "language_info": {
   "codemirror_mode": {
    "name": "ipython",
    "version": 3
   },
   "file_extension": ".py",
   "mimetype": "text/x-python",
   "name": "python",
   "nbconvert_exporter": "python",
   "pygments_lexer": "ipython3",
   "version": "3.10.7"
  },
  "vscode": {
   "interpreter": {
    "hash": "27f6fea6f47ae512550f0b8facdbd035a93e1dd89633f7bf2dd00a2502c71d0d"
   }
  }
 },
 "nbformat": 4,
 "nbformat_minor": 5
}
