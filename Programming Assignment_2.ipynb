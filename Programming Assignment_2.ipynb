{
 "cells": [
  {
   "cell_type": "markdown",
   "id": "08c66ea5",
   "metadata": {},
   "source": [
    "## Programming Assignment_2\n",
    "-------------"
   ]
  },
  {
   "cell_type": "markdown",
   "id": "4e50cf42",
   "metadata": {},
   "source": [
    "### 1. Write a Python program to convert kilometers to miles?\n"
   ]
  },
  {
   "cell_type": "code",
   "execution_count": 4,
   "id": "0b9a4aea",
   "metadata": {},
   "outputs": [
    {
     "name": "stdout",
     "output_type": "stream",
     "text": [
      "Kilometers : 1\n",
      "miles : 0.621371\n"
     ]
    }
   ],
   "source": [
    "# Input from the user\n",
    "kilo = eval(input(\"Enter the value in kilometers: \"))\n",
    "\n",
    "# Conversion factor\n",
    "c_fac = 0.621371\n",
    "\n",
    "# convert Kilometers into miles\n",
    "miles = kilo * c_fac\n",
    "\n",
    "print('Kilometers :', kilo)\n",
    "print('miles :', miles)"
   ]
  },
  {
   "cell_type": "markdown",
   "id": "0df4e6bf",
   "metadata": {},
   "source": [
    "### 2.Write a Python program to convert Celsius to Fahrenheit?"
   ]
  },
  {
   "cell_type": "code",
   "execution_count": 6,
   "id": "26f38255",
   "metadata": {},
   "outputs": [
    {
     "name": "stdout",
     "output_type": "stream",
     "text": [
      "temperature in celsius : 37.2\n",
      "temperature in Fahrenheit 98.96000000000001\n"
     ]
    }
   ],
   "source": [
    "#Convert Celsius to Fahrenheit\n",
    "cel = eval(input(\"Enter temperature in celsius: \"))\n",
    "\n",
    "fah = (cel * 1.8) + 32\n",
    "print(\"temperature in celsius :\", cel)\n",
    "print(\"temperature in Fahrenheit\", fah)"
   ]
  },
  {
   "cell_type": "markdown",
   "id": "46129b8e",
   "metadata": {},
   "source": [
    "### 3. Write a Python program to display calendar?\n"
   ]
  },
  {
   "cell_type": "code",
   "execution_count": 8,
   "id": "22a7044a",
   "metadata": {},
   "outputs": [
    {
     "name": "stdout",
     "output_type": "stream",
     "text": [
      "   November 2022\n",
      "Mo Tu We Th Fr Sa Su\n",
      "    1  2  3  4  5  6\n",
      " 7  8  9 10 11 12 13\n",
      "14 15 16 17 18 19 20\n",
      "21 22 23 24 25 26 27\n",
      "28 29 30\n",
      "\n"
     ]
    }
   ],
   "source": [
    "\n",
    "# Python program to display calendar\n",
    "\n",
    " \n",
    "# import the library Calender\n",
    "import calendar\n",
    "\n",
    "# Take month and year as input from the user\n",
    "yy = eval(input(\"Enter year : \"))\n",
    "mm = eval(input(\"Enter month: \"))\n",
    " \n",
    "\n",
    "print(calendar.month(yy, mm))"
   ]
  },
  {
   "cell_type": "markdown",
   "id": "db2bf0f7",
   "metadata": {},
   "source": [
    "### 4. Write a Python program to solve quadratic equation?"
   ]
  },
  {
   "cell_type": "code",
   "execution_count": 9,
   "id": "771915ce",
   "metadata": {},
   "outputs": [
    {
     "name": "stdout",
     "output_type": "stream",
     "text": [
      "The solution is {0} : (-1.5+0j)\n",
      "The solution is {1} : (-1+0j)\n"
     ]
    }
   ],
   "source": [
    "# Given the quadratic equation is ax**2 + bx + c = 0\n",
    "\n",
    "# importing the library complex math \n",
    "import cmath\n",
    "\n",
    "a = eval(input(\"enter the  value a :\"))\n",
    "b = eval(input(\"enter the  value b :\"))\n",
    "c = eval(input(\"enter the  value c :\"))\n",
    "\n",
    "# Discriminant value is :\n",
    "d = (b**2) - (4*a*c)\n",
    "\n",
    "# Now the two solution is:\n",
    "sol1 = (-b-cmath.sqrt(d))/(2*a)\n",
    "sol2 = (-b+cmath.sqrt(d))/(2*a)\n",
    "\n",
    "print('The solution is {0} :', sol1)\n",
    "print('The solution is {1} :', sol2)"
   ]
  },
  {
   "cell_type": "markdown",
   "id": "f70f74c9",
   "metadata": {},
   "source": [
    "### 5. Write a Python program to swap two variables without temp variable?"
   ]
  },
  {
   "cell_type": "code",
   "execution_count": 12,
   "id": "b452f0fc",
   "metadata": {},
   "outputs": [
    {
     "name": "stdout",
     "output_type": "stream",
     "text": [
      "x :  30\n",
      "y :  20\n"
     ]
    }
   ],
   "source": [
    "# Python program to swap two variables\n",
    "x = 20\n",
    "y = 30\n",
    "\n",
    "x, y = y, x\n",
    "print(\"x : \", x)\n",
    "print(\"y : \", y)"
   ]
  }
 ],
 "metadata": {
  "kernelspec": {
   "display_name": "Python 3.10.8 64-bit (microsoft store)",
   "language": "python",
   "name": "python3"
  },
  "language_info": {
   "codemirror_mode": {
    "name": "ipython",
    "version": 3
   },
   "file_extension": ".py",
   "mimetype": "text/x-python",
   "name": "python",
   "nbconvert_exporter": "python",
   "pygments_lexer": "ipython3",
   "version": "3.10.8"
  },
  "vscode": {
   "interpreter": {
    "hash": "65a440aeac0c89e2af7569e0aa53b64434c4b69eb6285e2b0d174d9bca190d54"
   }
  }
 },
 "nbformat": 4,
 "nbformat_minor": 5
}
