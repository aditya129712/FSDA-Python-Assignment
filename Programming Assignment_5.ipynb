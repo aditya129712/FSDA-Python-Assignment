{
 "cells": [
  {
   "cell_type": "markdown",
   "id": "4ac9602a",
   "metadata": {},
   "source": [
    "## Python Basic Programming Assignment - 5\n",
    "--------------\n"
   ]
  },
  {
   "cell_type": "markdown",
   "id": "fdaeee06",
   "metadata": {},
   "source": [
    "### 1. Write a Python Program to Find LCM?"
   ]
  },
  {
   "cell_type": "code",
   "execution_count": 1,
   "id": "465a6f52",
   "metadata": {},
   "outputs": [
    {
     "name": "stdout",
     "output_type": "stream",
     "text": [
      "The L.C.M. of 2 and 3 is 6\n"
     ]
    }
   ],
   "source": [
    "num_1 = eval(input('Enter the number'))\n",
    "num_2 = eval(input('Enter the number'))\n",
    "\n",
    "def cal_Lcm(x,y):\n",
    "    if x > y:\n",
    "        greater = x\n",
    "    else:\n",
    "        greater = y\n",
    "    while(True):  \n",
    "        if((greater % x == 0) and (greater % y == 0)):  \n",
    "            lcm = greater  \n",
    "            break  \n",
    "        greater += 1  \n",
    "    return lcm     \n",
    "print(\"The L.C.M. of\", num_1,\"and\", num_2,\"is\", cal_Lcm(num_1, num_2))      "
   ]
  },
  {
   "cell_type": "markdown",
   "id": "2f459cdf",
   "metadata": {},
   "source": [
    "### 2. Write a Python Program to Find HCF?"
   ]
  },
  {
   "cell_type": "code",
   "execution_count": 2,
   "id": "edcbba4f",
   "metadata": {},
   "outputs": [
    {
     "name": "stdout",
     "output_type": "stream",
     "text": [
      "The H.C.F. of 2 and 3 is 1\n"
     ]
    }
   ],
   "source": [
    "num_1 = eval(input('Enter the number'))\n",
    "num_2 = eval(input('Enter the number'))\n",
    "\n",
    "\n",
    "def cal_hcf(x, y):   \n",
    "    if x > y:  \n",
    "        smaller = y  \n",
    "    else:  \n",
    "        smaller = x  \n",
    "    for i in range(1,smaller + 1):  \n",
    "        if((x % i == 0) and (y % i == 0)):  \n",
    "            hcf = i  \n",
    "    return hcf  \n",
    "\n",
    "print(\"The H.C.F. of\", num_1,\"and\", num_2,\"is\", cal_hcf(num_1, num_2))  "
   ]
  },
  {
   "cell_type": "markdown",
   "id": "d2c29370",
   "metadata": {},
   "source": [
    "### 3. Write a Python Program to Convert Decimal to Binary, Octal and Hexadecimal?"
   ]
  },
  {
   "cell_type": "code",
   "execution_count": 5,
   "id": "98bad473",
   "metadata": {},
   "outputs": [
    {
     "name": "stdout",
     "output_type": "stream",
     "text": [
      "The decimal value of 5 is:\n",
      "0b101 in binary.\n",
      "0o5 in octal.\n",
      "0x5 in hexadecimal.\n"
     ]
    }
   ],
   "source": [
    "dec_val = eval(input(\"Enter an integer: \"))\n",
    "\n",
    "\n",
    "print(\"The decimal value of\",dec_val,\"is:\")\n",
    "print(bin(dec_val),\"in binary.\")\n",
    "print(oct(dec_val),\"in octal.\")\n",
    "print(hex(dec_val),\"in hexadecimal.\")"
   ]
  },
  {
   "cell_type": "markdown",
   "id": "2a16c5fd",
   "metadata": {},
   "source": [
    "### 4. Write a Python Program To Find ASCII value of a character?"
   ]
  },
  {
   "cell_type": "code",
   "execution_count": 10,
   "id": "a29b506f",
   "metadata": {},
   "outputs": [
    {
     "name": "stdout",
     "output_type": "stream",
     "text": [
      "The ASCII value of '$' is  36\n"
     ]
    }
   ],
   "source": [
    "Char_input = input(\"Please enter a character: \")    \n",
    "    \n",
    "print (\"The ASCII value of '\" + Char_input + \"' is \", ord(Char_input))  "
   ]
  },
  {
   "cell_type": "markdown",
   "id": "226778a0",
   "metadata": {},
   "source": [
    "### 5. Write a Python Program to Make a Simple Calculator with 4 basic mathematical operations?"
   ]
  },
  {
   "cell_type": "code",
   "execution_count": 13,
   "id": "6bf091f3",
   "metadata": {},
   "outputs": [
    {
     "name": "stdout",
     "output_type": "stream",
     "text": [
      "The value of num_1 is: 5 The value of num_2 is: 6\n",
      "The value of add is : 11\n",
      "The value of sub is : -1\n",
      "The value of mul is : 30\n",
      "The value of div is : 0.8333333333333334\n"
     ]
    }
   ],
   "source": [
    "num_1 = eval(input('Enter the Number'))\n",
    "num_2 = eval(input('Enter the Number'))\n",
    "\n",
    "add = num_1 + num_2\n",
    "sub = num_1 - num_2\n",
    "mul = num_1 * num_2\n",
    "div = num_1 / num_2\n",
    "\n",
    "print('The value of num_1 is:',num_1,'The value of num_2 is:',num_2)\n",
    "print('The value of add is :',add)\n",
    "print('The value of sub is :',sub)\n",
    "print('The value of mul is :',mul)\n",
    "print('The value of div is :',div)"
   ]
  }
 ],
 "metadata": {
  "kernelspec": {
   "display_name": "Python 3",
   "language": "python",
   "name": "python3"
  },
  "language_info": {
   "codemirror_mode": {
    "name": "ipython",
    "version": 3
   },
   "file_extension": ".py",
   "mimetype": "text/x-python",
   "name": "python",
   "nbconvert_exporter": "python",
   "pygments_lexer": "ipython3",
   "version": "3.10.9"
  },
  "vscode": {
   "interpreter": {
    "hash": "65a440aeac0c89e2af7569e0aa53b64434c4b69eb6285e2b0d174d9bca190d54"
   }
  }
 },
 "nbformat": 4,
 "nbformat_minor": 5
}
