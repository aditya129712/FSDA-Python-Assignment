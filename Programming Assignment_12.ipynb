{
 "cells": [
  {
   "cell_type": "markdown",
   "id": "b7231b20",
   "metadata": {},
   "source": [
    "# Python Basic Programming Assignment 12\n",
    "-------------"
   ]
  },
  {
   "cell_type": "markdown",
   "id": "d2ec324d",
   "metadata": {},
   "source": [
    "### 1. Write a Python program to Extract Unique values dictionary values?"
   ]
  },
  {
   "cell_type": "code",
   "execution_count": 1,
   "id": "905c31a1",
   "metadata": {},
   "outputs": [
    {
     "name": "stdout",
     "output_type": "stream",
     "text": [
      "The original dictionary is :  {'A': [4, 5, 6, 7], 'B': [2, 1, 3, 5], 'C': [7, 17, 15, 19], 'D': [6, 19, 32]}\n",
      "The unique values list is :  [1, 2, 3, 4, 5, 6, 7, 15, 17, 19, 32]\n"
     ]
    }
   ],
   "source": [
    "# Python program to Extract Unique values dictionary values\n",
    "dict_value = {'A' : [4, 5, 6, 7],'B' : [2, 1, 3, 5],'C' : [7, 17, 15 ,19],'D' : [6, 19, 32]}\n",
    "\n",
    "print(\"The original dictionary is : \" ,dict_value)\n",
    "res = list(sorted({ele for val in dict_value.values() for ele in val}))  # Using list comprehension, values and sorted\n",
    "\n",
    "print(\"The unique values list is : \" , res)  # print result "
   ]
  },
  {
   "cell_type": "markdown",
   "id": "203bcbc3",
   "metadata": {},
   "source": [
    "### 2. Write a Python program to find the sum of all items in a dictionary?"
   ]
  },
  {
   "cell_type": "code",
   "execution_count": 1,
   "id": "1a0227f1",
   "metadata": {},
   "outputs": [
    {
     "name": "stdout",
     "output_type": "stream",
     "text": [
      "Sum : 1800\n"
     ]
    }
   ],
   "source": [
    "#Python program to find the sum of all items in a dictionary\n",
    "\n",
    "def Sum_dict(Dict_list):\n",
    "     \n",
    "    list = []\n",
    "    for i in Dict_list:\n",
    "        list.append(Dict_list[i])\n",
    "    final = sum(list)\n",
    " \n",
    "    return final\n",
    " \n",
    " \n",
    "# Input User\n",
    "dict = {'a1': 300, 'b1': 600, 'c1': 900}\n",
    "print(\"Sum :\", Sum_dict(dict))"
   ]
  },
  {
   "cell_type": "markdown",
   "id": "edfbc682",
   "metadata": {},
   "source": [
    "### 3. Write a Python program to Merging two Dictionaries?"
   ]
  },
  {
   "cell_type": "code",
   "execution_count": 2,
   "id": "450c5242",
   "metadata": {},
   "outputs": [
    {
     "name": "stdout",
     "output_type": "stream",
     "text": [
      "None\n",
      "{'c1': 79, 'd1': 63, 'a1': 20, 'b1': 17}\n"
     ]
    }
   ],
   "source": [
    "#Python program to Merging two Dictionaries\n",
    "def Merge(dict1, dict2):\n",
    "    return(dict2.update(dict1))\n",
    " \n",
    " \n",
    "# Input User\n",
    "dict1 = {'a1': 20, 'b1': 17}\n",
    "dict2 = {'c1': 79, 'd1': 63}\n",
    " \n",
    "# Print Return None\n",
    "print(Merge(dict1, dict2))\n",
    " \n",
    "# Final Print\n",
    "print(dict2)"
   ]
  },
  {
   "attachments": {},
   "cell_type": "markdown",
   "id": "62eaf687",
   "metadata": {},
   "source": [
    "### 4. Write a Python program to convert key-values list to flat dictionary?"
   ]
  },
  {
   "cell_type": "code",
   "execution_count": 10,
   "id": "98c766b4",
   "metadata": {},
   "outputs": [
    {
     "name": "stdout",
     "output_type": "stream",
     "text": [
      "The original dictionary is : {'Month': [10, 11, 12], 'Month_Name': ['Oct', 'Nov', 'Dec']}\n",
      "Flattened dictionary : {10: 'Oct', 11: 'Nov', 12: 'Dec'}\n"
     ]
    }
   ],
   "source": [
    "# Python program to convert key-values list to flat dictionary\n",
    "# Dictionary List\n",
    "dict_list = {'Month': [10, 11, 12], 'Month_Name': ['Oct', 'Nov', 'Dec']}\n",
    "\n",
    "# Printing the original dictionary\n",
    "print(\"The original dictionary is : \" + str(dict_list))\n",
    "\n",
    "# Convert key-values list to flat dictionary\n",
    "x = list(dict_list.values())\n",
    "a = x[0]\n",
    "b = x[1]\n",
    "d = {}\n",
    "for i in range(len(a)):\n",
    "    d.update({a[i]: b[i]})\n",
    "\n",
    "# Printing the result\n",
    "print(\"Flattened dictionary : \" + str(d))"
   ]
  },
  {
   "cell_type": "markdown",
   "id": "fcc5015f",
   "metadata": {},
   "source": [
    "### 5. Write a Python program to insertion at the beginning in OrderedDict?"
   ]
  },
  {
   "cell_type": "code",
   "execution_count": 11,
   "id": "6b1c1d65",
   "metadata": {},
   "outputs": [
    {
     "name": "stdout",
     "output_type": "stream",
     "text": [
      "The original ordered dictionary is:\n",
      "OrderedDict([('a', 1), ('b', 2), ('c', 3)])\n",
      "The updated ordered dictionary is:\n",
      "OrderedDict([('d', 4), ('a', 1), ('b', 2), ('c', 3)])\n"
     ]
    }
   ],
   "source": [
    "# Python program to insertion at the beginning in OrderedDict\n",
    "from collections import OrderedDict\n",
    "\n",
    "# Creating an ordered dictionary\n",
    "od = OrderedDict([('a', 1), ('b', 2), ('c', 3)])\n",
    "\n",
    "# Printing the original ordered dictionary\n",
    "print(\"The original ordered dictionary is:\")\n",
    "print(od)\n",
    "\n",
    "# Inserting a new key-value pair at the beginning of the ordered dictionary\n",
    "od = OrderedDict([('d', 4), ('a', 1), ('b', 2), ('c', 3)])\n",
    "\n",
    "# Printing the updated ordered dictionary\n",
    "print(\"The updated ordered dictionary is:\")\n",
    "print(od)\n"
   ]
  },
  {
   "cell_type": "markdown",
   "id": "5978c9ab",
   "metadata": {},
   "source": [
    "### 6. Write a Python program to check order of character in string using OrderedDict()?"
   ]
  },
  {
   "cell_type": "code",
   "execution_count": 17,
   "id": "c253a15e",
   "metadata": {},
   "outputs": [
    {
     "name": "stdout",
     "output_type": "stream",
     "text": [
      "true\n",
      "false\n"
     ]
    }
   ],
   "source": [
    "\n",
    "# Python program to check order of character in string using OrderedDict() \n",
    "from collections import OrderedDict \n",
    "  \n",
    "def checkOrder(input, pattern): \n",
    "      \n",
    "    # create empty OrderedDict \n",
    "    # output will be like {'a': None,'b': None, 'c': None} \n",
    "    dict = OrderedDict.fromkeys(input) \n",
    "  \n",
    "    # traverse generated OrderedDict parallel with \n",
    "    # pattern string to check if order of characters \n",
    "    # are same or not \n",
    "    ptrlen = 0\n",
    "    for key,value in dict.items(): \n",
    "        if (key == pattern[ptrlen]): \n",
    "            ptrlen = ptrlen + 1\n",
    "          \n",
    "        # check if we have traverse complete \n",
    "        # pattern string \n",
    "        if (ptrlen == (len(pattern))): \n",
    "            return 'true'\n",
    "  \n",
    "    # if we come out from for loop that means \n",
    "    # order was mismatched \n",
    "    return 'false'\n",
    "  \n",
    "\n",
    "# Testing the function\n",
    "input = \"hello world\"\n",
    "pattern = \"hlo\"\n",
    "print(checkOrder(input, pattern))  # True\n",
    "\n",
    "pattern = \"lho\"\n",
    "print(checkOrder(input, pattern))  # False    "
   ]
  },
  {
   "cell_type": "markdown",
   "id": "f330da77",
   "metadata": {},
   "source": [
    "### 7. Write a Python program to sort Python Dictionaries by Key or Value?"
   ]
  },
  {
   "cell_type": "code",
   "execution_count": 21,
   "id": "ce973d7a",
   "metadata": {},
   "outputs": [
    {
     "name": "stdout",
     "output_type": "stream",
     "text": [
      "{'apple': 8, 'banana': 4, 'orange': 6, 'pear': 2}\n"
     ]
    }
   ],
   "source": [
    "#Python program to sort Python Dictionaries by Key or Value\n",
    "my_dict = {'apple': 8, 'banana': 4, 'orange': 6, 'pear': 2}\n",
    " \n",
    "myKeys = list(my_dict.keys())\n",
    "myKeys.sort()\n",
    "sorted_dict = {i: my_dict[i] for i in myKeys}\n",
    " \n",
    "print(sorted_dict)"
   ]
  }
 ],
 "metadata": {
  "kernelspec": {
   "display_name": "Python 3",
   "language": "python",
   "name": "python3"
  },
  "language_info": {
   "codemirror_mode": {
    "name": "ipython",
    "version": 3
   },
   "file_extension": ".py",
   "mimetype": "text/x-python",
   "name": "python",
   "nbconvert_exporter": "python",
   "pygments_lexer": "ipython3",
   "version": "3.10.10"
  },
  "vscode": {
   "interpreter": {
    "hash": "65a440aeac0c89e2af7569e0aa53b64434c4b69eb6285e2b0d174d9bca190d54"
   }
  }
 },
 "nbformat": 4,
 "nbformat_minor": 5
}
