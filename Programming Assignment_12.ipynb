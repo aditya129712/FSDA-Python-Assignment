{
 "cells": [
  {
   "cell_type": "markdown",
   "id": "b7231b20",
   "metadata": {},
   "source": [
    "# Python Basic Programming Assignment 12\n",
    "-------------"
   ]
  },
  {
   "cell_type": "markdown",
   "id": "d2ec324d",
   "metadata": {},
   "source": [
    "### 1. Write a Python program to Extract Unique values dictionary values?"
   ]
  },
  {
   "cell_type": "code",
   "execution_count": 1,
   "id": "905c31a1",
   "metadata": {},
   "outputs": [
    {
     "name": "stdout",
     "output_type": "stream",
     "text": [
      "The original dictionary is :  {'A': [4, 5, 6, 7], 'B': [2, 1, 3, 5], 'C': [7, 17, 15, 19], 'D': [6, 19, 32]}\n",
      "The unique values list is :  [1, 2, 3, 4, 5, 6, 7, 15, 17, 19, 32]\n"
     ]
    }
   ],
   "source": [
    "# Python program to Extract Unique values dictionary values\n",
    "dict_value = {'A' : [4, 5, 6, 7],'B' : [2, 1, 3, 5],'C' : [7, 17, 15 ,19],'D' : [6, 19, 32]}\n",
    "\n",
    "print(\"The original dictionary is : \" ,dict_value)\n",
    "res = list(sorted({ele for val in dict_value.values() for ele in val}))  # Using list comprehension, values and sorted\n",
    "\n",
    "print(\"The unique values list is : \" , res)  # print result "
   ]
  },
  {
   "cell_type": "markdown",
   "id": "203bcbc3",
   "metadata": {},
   "source": [
    "### 2. Write a Python program to find the sum of all items in a dictionary?"
   ]
  },
  {
   "cell_type": "code",
   "execution_count": 1,
   "id": "1a0227f1",
   "metadata": {},
   "outputs": [
    {
     "name": "stdout",
     "output_type": "stream",
     "text": [
      "Sum : 1800\n"
     ]
    }
   ],
   "source": [
    "#Python program to find the sum of all items in a dictionary\n",
    "\n",
    "def Sum_dict(Dict_list):\n",
    "     \n",
    "    list = []\n",
    "    for i in Dict_list:\n",
    "        list.append(Dict_list[i])\n",
    "    final = sum(list)\n",
    " \n",
    "    return final\n",
    " \n",
    " \n",
    "# Input User\n",
    "dict = {'a1': 300, 'b1': 600, 'c1': 900}\n",
    "print(\"Sum :\", Sum_dict(dict))"
   ]
  },
  {
   "cell_type": "markdown",
   "id": "edfbc682",
   "metadata": {},
   "source": [
    "### 3. Write a Python program to Merging two Dictionaries?"
   ]
  },
  {
   "cell_type": "code",
   "execution_count": 2,
   "id": "450c5242",
   "metadata": {},
   "outputs": [
    {
     "name": "stdout",
     "output_type": "stream",
     "text": [
      "None\n",
      "{'c1': 79, 'd1': 63, 'a1': 20, 'b1': 17}\n"
     ]
    }
   ],
   "source": [
    "#Python program to Merging two Dictionaries\n",
    "def Merge(dict1, dict2):\n",
    "    return(dict2.update(dict1))\n",
    " \n",
    " \n",
    "# Input User\n",
    "dict1 = {'a1': 20, 'b1': 17}\n",
    "dict2 = {'c1': 79, 'd1': 63}\n",
    " \n",
    "# Print Return None\n",
    "print(Merge(dict1, dict2))\n",
    " \n",
    "# Final Print\n",
    "print(dict2)"
   ]
  },
  {
   "attachments": {},
   "cell_type": "markdown",
   "id": "62eaf687",
   "metadata": {},
   "source": [
    "### 4. Write a Python program to convert key-values list to flat dictionary?"
   ]
  },
  {
   "cell_type": "code",
   "execution_count": 7,
   "id": "accd8fa2",
   "metadata": {},
   "outputs": [
    {
     "ename": "TypeError",
     "evalue": "'dict' object is not callable",
     "output_type": "error",
     "traceback": [
      "\u001b[1;31m---------------------------------------------------------------------------\u001b[0m",
      "\u001b[1;31mTypeError\u001b[0m                                 Traceback (most recent call last)",
      "Cell \u001b[1;32mIn [7], line 1\u001b[0m\n\u001b[1;32m----> 1\u001b[0m x \u001b[39m=\u001b[39m \u001b[39mdict\u001b[39;49m(name \u001b[39m=\u001b[39;49m \u001b[39m\"\u001b[39;49m\u001b[39mJohn\u001b[39;49m\u001b[39m\"\u001b[39;49m, age \u001b[39m=\u001b[39;49m \u001b[39m36\u001b[39;49m, country \u001b[39m=\u001b[39;49m \u001b[39m\"\u001b[39;49m\u001b[39mNorway\u001b[39;49m\u001b[39m\"\u001b[39;49m)\n",
      "\u001b[1;31mTypeError\u001b[0m: 'dict' object is not callable"
     ]
    }
   ],
   "source": [
    "x = dict(name = \"John\", age = 36, country = \"Norway\")"
   ]
  },
  {
   "cell_type": "code",
   "execution_count": 3,
   "id": "ad9cde59",
   "metadata": {},
   "outputs": [
    {
     "name": "stdout",
     "output_type": "stream",
     "text": [
      "The original dictionary is : {'Month': [10, 11, 12], 'Month_Name': ['Oct', 'Nov', 'Dec']}\n"
     ]
    },
    {
     "ename": "TypeError",
     "evalue": "'dict' object is not callable",
     "output_type": "error",
     "traceback": [
      "\u001b[1;31m---------------------------------------------------------------------------\u001b[0m",
      "\u001b[1;31mTypeError\u001b[0m                                 Traceback (most recent call last)",
      "Cell \u001b[1;32mIn [3], line 13\u001b[0m\n\u001b[0;32m     11\u001b[0m a\u001b[39m=\u001b[39mx[\u001b[39m0\u001b[39m]\n\u001b[0;32m     12\u001b[0m b\u001b[39m=\u001b[39mx[\u001b[39m1\u001b[39m]\n\u001b[1;32m---> 13\u001b[0m d\u001b[39m=\u001b[39m\u001b[39mdict\u001b[39;49m()\n\u001b[0;32m     14\u001b[0m \u001b[39mfor\u001b[39;00m i \u001b[39min\u001b[39;00m \u001b[39mrange\u001b[39m(\u001b[39m0\u001b[39m,\u001b[39mlen\u001b[39m(a)):\n\u001b[0;32m     15\u001b[0m \td[a[i]]\u001b[39m=\u001b[39mb[i]\n",
      "\u001b[1;31mTypeError\u001b[0m: 'dict' object is not callable"
     ]
    }
   ],
   "source": [
    "#Python program to convert key-values list to flat dictionary\n",
    "# Dictionary List\n",
    "dict_list = {'Month' : [10, 11, 12],\n",
    "\t\t\t'Month_Name' : ['Oct', 'Nov', 'Dec']}\n",
    "\n",
    "# printing the original dictionary\n",
    "print(\"The original dictionary is : \" + str(dict_list))\n",
    "\n",
    "# Convert key-values list to flat dictionary\n",
    "x=list(dict_list.values())\n",
    "a=x[0]\n",
    "b=x[1]\n",
    "d=dict()\n",
    "for i in range(0,len(a)):\n",
    "\td[a[i]]=b[i]\n",
    "# printing the result\n",
    "print(\"Flattened dictionary : \" + str(d))\n"
   ]
  },
  {
   "cell_type": "code",
   "execution_count": 5,
   "id": "99ec3d80",
   "metadata": {},
   "outputs": [
    {
     "name": "stdout",
     "output_type": "stream",
     "text": [
      "The original dictionary is : {'Month': [10, 11, 12], 'Month_Name': ['Oct', 'Nov', 'Dec']}\n"
     ]
    },
    {
     "ename": "TypeError",
     "evalue": "'dict' object is not callable",
     "output_type": "error",
     "traceback": [
      "\u001b[1;31m---------------------------------------------------------------------------\u001b[0m",
      "\u001b[1;31mTypeError\u001b[0m                                 Traceback (most recent call last)",
      "Cell \u001b[1;32mIn [5], line 14\u001b[0m\n\u001b[0;32m     10\u001b[0m \u001b[39mprint\u001b[39m(\u001b[39m\"\u001b[39m\u001b[39mThe original dictionary is : \u001b[39m\u001b[39m\"\u001b[39m \u001b[39m+\u001b[39m \u001b[39mstr\u001b[39m(dict_list))\n\u001b[0;32m     12\u001b[0m \u001b[39m# Convert key-values list to flat dictionary\u001b[39;00m\n\u001b[0;32m     13\u001b[0m \u001b[39m# Using dict() + zip()\u001b[39;00m\n\u001b[1;32m---> 14\u001b[0m res \u001b[39m=\u001b[39m \u001b[39mdict\u001b[39;49m(\u001b[39mzip\u001b[39;49m(dict_list[\u001b[39m'\u001b[39;49m\u001b[39mMonth\u001b[39;49m\u001b[39m'\u001b[39;49m], dict_list[\u001b[39m'\u001b[39;49m\u001b[39mMonth_Name\u001b[39;49m\u001b[39m'\u001b[39;49m]))\n\u001b[0;32m     16\u001b[0m \u001b[39m# printing result\u001b[39;00m\n\u001b[0;32m     17\u001b[0m \u001b[39mprint\u001b[39m(\u001b[39m\"\u001b[39m\u001b[39mFlattened dictionary : \u001b[39m\u001b[39m\"\u001b[39m \u001b[39m+\u001b[39m \u001b[39mstr\u001b[39m(res))\n",
      "\u001b[1;31mTypeError\u001b[0m: 'dict' object is not callable"
     ]
    }
   ],
   "source": [
    "#Python program to convert key-values list to flat dictionary\n",
    "# Using dict() + zip()\n",
    "from itertools import product\n",
    " \n",
    "# Dictionary List\n",
    "dict_list = {'Month' : [10, 11, 12],\n",
    "\t\t\t'Month_Name' : ['Oct', 'Nov', 'Dec']}\n",
    " \n",
    "# printing the original dictionary\n",
    "print(\"The original dictionary is : \" + str(dict_list))\n",
    " \n",
    "# Convert key-values list to flat dictionary\n",
    "# Using dict() + zip()\n",
    "res = dict(zip(dict_list['Month'], dict_list['Month_Name']))\n",
    " \n",
    "# printing result\n",
    "print(\"Flattened dictionary : \" + str(res))"
   ]
  },
  {
   "cell_type": "code",
   "execution_count": 8,
   "id": "e81070ed",
   "metadata": {},
   "outputs": [],
   "source": [
    "def convert_to_dict(key_value_list):\n",
    "    flat_dict = {}\n",
    "    for key_value in key_value_list:\n",
    "        if isinstance(key_value, dict):\n",
    "            flat_dict.update(key_value)\n",
    "        elif isinstance(key_value, (list, tuple)):\n",
    "            if len(key_value) == 2:\n",
    "                key, value = key_value\n",
    "                flat_dict[key] = value\n",
    "            else:\n",
    "                raise ValueError(\"Key-value pairs must be of length 2\")\n",
    "        else:\n",
    "            raise TypeError(\"Key-value pairs must be either a dictionary or a list/tuple of length 2\")\n",
    "    return flat_dict\n"
   ]
  },
  {
   "cell_type": "code",
   "execution_count": 9,
   "id": "757d2c30",
   "metadata": {},
   "outputs": [
    {
     "ename": "TypeError",
     "evalue": "isinstance() arg 2 must be a type, a tuple of types, or a union",
     "output_type": "error",
     "traceback": [
      "\u001b[1;31m---------------------------------------------------------------------------\u001b[0m",
      "\u001b[1;31mTypeError\u001b[0m                                 Traceback (most recent call last)",
      "Cell \u001b[1;32mIn [9], line 7\u001b[0m\n\u001b[0;32m      1\u001b[0m key_value_list \u001b[39m=\u001b[39m [\n\u001b[0;32m      2\u001b[0m     {\u001b[39m\"\u001b[39m\u001b[39ma\u001b[39m\u001b[39m\"\u001b[39m: \u001b[39m1\u001b[39m, \u001b[39m\"\u001b[39m\u001b[39mb\u001b[39m\u001b[39m\"\u001b[39m: \u001b[39m2\u001b[39m},\n\u001b[0;32m      3\u001b[0m     [\u001b[39m\"\u001b[39m\u001b[39mc\u001b[39m\u001b[39m\"\u001b[39m, \u001b[39m3\u001b[39m],\n\u001b[0;32m      4\u001b[0m     (\u001b[39m\"\u001b[39m\u001b[39md\u001b[39m\u001b[39m\"\u001b[39m, \u001b[39m4\u001b[39m)\n\u001b[0;32m      5\u001b[0m ]\n\u001b[1;32m----> 7\u001b[0m flat_dict \u001b[39m=\u001b[39m convert_to_dict(key_value_list)\n\u001b[0;32m      8\u001b[0m \u001b[39mprint\u001b[39m(flat_dict)\n",
      "Cell \u001b[1;32mIn [8], line 4\u001b[0m, in \u001b[0;36mconvert_to_dict\u001b[1;34m(key_value_list)\u001b[0m\n\u001b[0;32m      2\u001b[0m flat_dict \u001b[39m=\u001b[39m {}\n\u001b[0;32m      3\u001b[0m \u001b[39mfor\u001b[39;00m key_value \u001b[39min\u001b[39;00m key_value_list:\n\u001b[1;32m----> 4\u001b[0m     \u001b[39mif\u001b[39;00m \u001b[39misinstance\u001b[39;49m(key_value, \u001b[39mdict\u001b[39;49m):\n\u001b[0;32m      5\u001b[0m         flat_dict\u001b[39m.\u001b[39mupdate(key_value)\n\u001b[0;32m      6\u001b[0m     \u001b[39melif\u001b[39;00m \u001b[39misinstance\u001b[39m(key_value, (\u001b[39mlist\u001b[39m, \u001b[39mtuple\u001b[39m)):\n",
      "\u001b[1;31mTypeError\u001b[0m: isinstance() arg 2 must be a type, a tuple of types, or a union"
     ]
    }
   ],
   "source": [
    "key_value_list = [\n",
    "    {\"a\": 1, \"b\": 2},\n",
    "    [\"c\", 3],\n",
    "    (\"d\", 4)\n",
    "]\n",
    "\n",
    "flat_dict = convert_to_dict(key_value_list)\n",
    "print(flat_dict)\n"
   ]
  },
  {
   "cell_type": "markdown",
   "id": "fcc5015f",
   "metadata": {},
   "source": [
    "### 5. Write a Python program to insertion at the beginning in OrderedDict?"
   ]
  },
  {
   "cell_type": "markdown",
   "id": "5978c9ab",
   "metadata": {},
   "source": [
    "### 6. Write a Python program to check order of character in string using OrderedDict()?"
   ]
  },
  {
   "cell_type": "markdown",
   "id": "f330da77",
   "metadata": {},
   "source": [
    "### 7. Write a Python program to sort Python Dictionaries by Key or Value?"
   ]
  }
 ],
 "metadata": {
  "kernelspec": {
   "display_name": "Python 3",
   "language": "python",
   "name": "python3"
  },
  "language_info": {
   "codemirror_mode": {
    "name": "ipython",
    "version": 3
   },
   "file_extension": ".py",
   "mimetype": "text/x-python",
   "name": "python",
   "nbconvert_exporter": "python",
   "pygments_lexer": "ipython3",
   "version": "3.10.10"
  },
  "vscode": {
   "interpreter": {
    "hash": "65a440aeac0c89e2af7569e0aa53b64434c4b69eb6285e2b0d174d9bca190d54"
   }
  }
 },
 "nbformat": 4,
 "nbformat_minor": 5
}
