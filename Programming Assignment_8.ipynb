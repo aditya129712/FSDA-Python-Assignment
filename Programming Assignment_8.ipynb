{
 "cells": [
  {
   "cell_type": "markdown",
   "id": "9b304197",
   "metadata": {},
   "source": [
    "# Python Basic Programming Assignment 8"
   ]
  },
  {
   "cell_type": "markdown",
   "id": "22789ae6",
   "metadata": {},
   "source": [
    "### 1. Write a Python Program to Add Two Matrices?"
   ]
  },
  {
   "cell_type": "code",
   "execution_count": 2,
   "id": "24b8f7d7",
   "metadata": {},
   "outputs": [
    {
     "name": "stdout",
     "output_type": "stream",
     "text": [
      "[34, 13, 12]\n",
      "[19, 13, 14]\n",
      "[9, 7, 13]\n"
     ]
    }
   ],
   "source": [
    "# Python Program to Add Two Matrices\n",
    "\n",
    "X = [[26,4,5],\n",
    "    [17,7,9],\n",
    "    [2,4,7]]\n",
    "\n",
    "Y = [[8,9,7],\n",
    "    [2,6,5],\n",
    "    [7,3,6]]\n",
    "\n",
    "result = [[0,0,0],\n",
    "         [0,0,0],\n",
    "         [0,0,0]]\n",
    "\n",
    "# iterate through rows\n",
    "for i in range(len(X)):\n",
    "   # iterate through columns\n",
    "   for j in range(len(X[0])):\n",
    "       result[i][j] = X[i][j] + Y[i][j]\n",
    "\n",
    "for final_result in result:\n",
    "   print(final_result)"
   ]
  },
  {
   "cell_type": "markdown",
   "id": "044ceda6",
   "metadata": {},
   "source": [
    "### 2. Write a Python Program to Multiply Two Matrices?"
   ]
  },
  {
   "cell_type": "code",
   "execution_count": 3,
   "id": "47591e39",
   "metadata": {},
   "outputs": [
    {
     "name": "stdout",
     "output_type": "stream",
     "text": [
      "[251, 273, 232, 251]\n",
      "[213, 222, 208, 183]\n",
      "[73, 63, 76, 37]\n"
     ]
    }
   ],
   "source": [
    "# Python Program to Multiply Two Matrices\n",
    "\n",
    "# 3x3 matrix\n",
    "X = [[26,4,5],\n",
    "    [17,7,9],\n",
    "    [2,4,7]]\n",
    "# 3x4 matrix\n",
    "Y = [[8,9,7,9],\n",
    "    [2,6,5,3],\n",
    "    [7,3,6,1]]\n",
    "# result is 3x4\n",
    "result = [[0,0,0,0],\n",
    "         [0,0,0,0],\n",
    "         [0,0,0,0]]\n",
    "\n",
    "# iterate through rows of X\n",
    "for i in range(len(X)):\n",
    "   # iterate through columns of Y\n",
    "   for j in range(len(Y[0])):\n",
    "       # iterate through rows of Y\n",
    "       for k in range(len(Y)):\n",
    "           result[i][j] += X[i][k] * Y[k][j]\n",
    "\n",
    "for final_result in result:\n",
    "   print(final_result)"
   ]
  },
  {
   "cell_type": "markdown",
   "id": "5f688e46",
   "metadata": {},
   "source": [
    "### 3. Write a Python Program to Transpose a Matrix?"
   ]
  },
  {
   "cell_type": "code",
   "execution_count": 4,
   "id": "0e924cb0",
   "metadata": {},
   "outputs": [
    {
     "name": "stdout",
     "output_type": "stream",
     "text": [
      "[26, 17, 2]\n",
      "[4, 7, 4]\n"
     ]
    }
   ],
   "source": [
    "# Python Program to Transpose a Matrix\n",
    "\n",
    "X = [[26,4],\n",
    "    [17,7],\n",
    "    [2,4]]\n",
    "\n",
    "result = [[0,0,0],\n",
    "         [0,0,0]]\n",
    "\n",
    "# iterate through rows\n",
    "for i in range(len(X)):\n",
    "   # iterate through columns\n",
    "   for j in range(len(X[0])):\n",
    "       result[j][i] = X[i][j]\n",
    "\n",
    "for final_result in result:\n",
    "   print(final_result)"
   ]
  },
  {
   "attachments": {},
   "cell_type": "markdown",
   "id": "b2849025",
   "metadata": {},
   "source": [
    "### 4. Write a Python Program to Sort Words in Alphabetic Order?"
   ]
  },
  {
   "cell_type": "code",
   "execution_count": 7,
   "id": "723582bf",
   "metadata": {},
   "outputs": [
    {
     "name": "stdout",
     "output_type": "stream",
     "text": [
      "Sorted Words in Alphabetic Order are:\n",
      "assignment\n",
      "my\n",
      "to\n",
      "welcome\n",
      "work\n"
     ]
    }
   ],
   "source": [
    "# Python Program to Sort Words in Alphabetic Order\n",
    "\n",
    "user_Word = \"Welcome to my assignment work\"\n",
    "\n",
    "# Input user Info\n",
    "#user_Word  = input(\"Enter a string: \")\n",
    "\n",
    "# Split the string into a list of words\n",
    "final_word = [word.lower() for word in user_Word.split()]\n",
    "\n",
    "# sort the list\n",
    "final_word.sort()\n",
    "\n",
    "# Print the sorted words\n",
    "\n",
    "print(\"Sorted Words in Alphabetic Order are:\")\n",
    "for word in final_word:\n",
    "   print(word)"
   ]
  },
  {
   "cell_type": "markdown",
   "id": "48ac7b24",
   "metadata": {},
   "source": [
    "### 5. Write a Python Program to Remove Punctuation From a String?"
   ]
  },
  {
   "cell_type": "code",
   "execution_count": 8,
   "id": "d1c59103",
   "metadata": {},
   "outputs": [
    {
     "name": "stdout",
     "output_type": "stream",
     "text": [
      "Welcome to my assignment work\n"
     ]
    }
   ],
   "source": [
    "# Python Program to Remove Punctuation From a String\n",
    "# define punctuation\n",
    "punctuations_list = '''?@#'\"\\,$()<>./!-[]{};:%^&*_~'''\n",
    "\n",
    "user_Word = \"Welcome//? to!! my @@]]assignment()) work::}\"\n",
    "\n",
    "# Input user Info\n",
    "#user_Word  = input(\"Enter a string: \")\n",
    "\n",
    "# Remove punctuation from the string\n",
    "no_punct_list = \"\"\n",
    "for char in user_Word:\n",
    "   if char not in punctuations_list:\n",
    "       no_punct_list = no_punct_list + char\n",
    "\n",
    "# Print the final string\n",
    "print(no_punct_list)\n"
   ]
  }
 ],
 "metadata": {
  "kernelspec": {
   "display_name": "Python 3",
   "language": "python",
   "name": "python3"
  },
  "language_info": {
   "codemirror_mode": {
    "name": "ipython",
    "version": 3
   },
   "file_extension": ".py",
   "mimetype": "text/x-python",
   "name": "python",
   "nbconvert_exporter": "python",
   "pygments_lexer": "ipython3",
   "version": "3.10.7"
  },
  "vscode": {
   "interpreter": {
    "hash": "27f6fea6f47ae512550f0b8facdbd035a93e1dd89633f7bf2dd00a2502c71d0d"
   }
  }
 },
 "nbformat": 4,
 "nbformat_minor": 5
}
