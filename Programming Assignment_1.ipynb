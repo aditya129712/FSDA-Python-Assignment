{
 "cells": [
  {
   "cell_type": "markdown",
   "id": "637b47a5",
   "metadata": {},
   "source": [
    "## Programming Assignment_1\n",
    "-------------"
   ]
  },
  {
   "cell_type": "markdown",
   "id": "0c647dbe",
   "metadata": {},
   "source": [
    "### 1. Write a Python program to print \"Hello Python\"?"
   ]
  },
  {
   "cell_type": "code",
   "execution_count": 1,
   "id": "6a5308d5",
   "metadata": {},
   "outputs": [
    {
     "name": "stdout",
     "output_type": "stream",
     "text": [
      "Hello Python\n"
     ]
    }
   ],
   "source": [
    "print(\"Hello Python\")"
   ]
  },
  {
   "cell_type": "markdown",
   "id": "fc18a6cd",
   "metadata": {},
   "source": [
    "### 2. Write a Python program to do arithmetical operations addition and division.?\n"
   ]
  },
  {
   "cell_type": "code",
   "execution_count": 2,
   "id": "0912546b",
   "metadata": {},
   "outputs": [
    {
     "name": "stdout",
     "output_type": "stream",
     "text": [
      "The addition is :  33\n",
      "The Division is :  0.8333333333333334\n"
     ]
    }
   ],
   "source": [
    "#a, b are the two values\n",
    "a = 15\n",
    "b = 18\n",
    "\n",
    "#Arithematic Operation\n",
    "add = a + b\n",
    "div = a / b\n",
    "\n",
    "print('The addition is : ', add)\n",
    "print('The Division is : ', div)"
   ]
  },
  {
   "cell_type": "markdown",
   "id": "af6e2429",
   "metadata": {},
   "source": [
    "### 3. Write a Python program to find the area of a triangle?\n"
   ]
  },
  {
   "cell_type": "code",
   "execution_count": 3,
   "id": "882aa8ca",
   "metadata": {},
   "outputs": [
    {
     "name": "stdout",
     "output_type": "stream",
     "text": [
      "The area of the triangle is 10.83\n"
     ]
    }
   ],
   "source": [
    "# a, b and c is the three side of the Triangle:  \n",
    "a = eval(input('Enter first side: '))  \n",
    "b = eval(input('Enter second side: '))  \n",
    "c = eval(input('Enter third side: '))  \n",
    "  \n",
    "# calculate the semi-perimeter:  \n",
    "s = (a + b + c) / 2  \n",
    "  \n",
    "# calculate the area : \n",
    "area = (s*(s-a)*(s-b)*(s-c)) ** 0.5  \n",
    "\n",
    "\n",
    "print('The area of the triangle is %0.2f' %area) "
   ]
  },
  {
   "cell_type": "markdown",
   "id": "b8140061",
   "metadata": {},
   "source": [
    "### 4. Write a Python program to swap two variables?\n"
   ]
  },
  {
   "cell_type": "code",
   "execution_count": 1,
   "id": "b528feb1",
   "metadata": {},
   "outputs": [
    {
     "name": "stdout",
     "output_type": "stream",
     "text": [
      "The value of x after swapping:  30\n",
      "The value of y after swapping:  20\n"
     ]
    }
   ],
   "source": [
    "# Python program to swap two variables\n",
    "\n",
    "x = 20\n",
    "y = 30\n",
    "\n",
    "# creating a temporary variable and swap the values\n",
    "var = x\n",
    "x = y\n",
    "y = var\n",
    "\n",
    "print('The value of x after swapping: ', x)\n",
    "print('The value of y after swapping: ', y)"
   ]
  },
  {
   "cell_type": "markdown",
   "id": "3f8054c1",
   "metadata": {},
   "source": [
    "### 5. Write a Python program to generate a random number?\n"
   ]
  },
  {
   "cell_type": "code",
   "execution_count": 6,
   "id": "fe0c8bfc",
   "metadata": {},
   "outputs": [
    {
     "name": "stdout",
     "output_type": "stream",
     "text": [
      "Random number in first iteration :  3\n",
      "Random number in second iteration :  5\n"
     ]
    }
   ],
   "source": [
    "import random \n",
    "random.seed(20)\n",
    "\n",
    "#generate random number between 1 to 10\n",
    "print(\"Random number in first iteration : \", random.randint(1,10)) \n",
    "print(\"Random number in second iteration : \", random.randint(1,10))\n"
   ]
  }
 ],
 "metadata": {
  "kernelspec": {
   "display_name": "Python 3.10.8 64-bit (microsoft store)",
   "language": "python",
   "name": "python3"
  },
  "language_info": {
   "codemirror_mode": {
    "name": "ipython",
    "version": 3
   },
   "file_extension": ".py",
   "mimetype": "text/x-python",
   "name": "python",
   "nbconvert_exporter": "python",
   "pygments_lexer": "ipython3",
   "version": "3.10.8"
  },
  "vscode": {
   "interpreter": {
    "hash": "65a440aeac0c89e2af7569e0aa53b64434c4b69eb6285e2b0d174d9bca190d54"
   }
  }
 },
 "nbformat": 4,
 "nbformat_minor": 5
}
