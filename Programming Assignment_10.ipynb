{
 "cells": [
  {
   "cell_type": "markdown",
   "id": "3dcb940f",
   "metadata": {},
   "source": [
    "## Python Basic Programming Assignment 10"
   ]
  },
  {
   "cell_type": "markdown",
   "id": "6720790a",
   "metadata": {},
   "source": [
    "### 1. Write a Python program to find sum of elements in list?"
   ]
  },
  {
   "cell_type": "code",
   "execution_count": 2,
   "id": "3153f88b",
   "metadata": {},
   "outputs": [
    {
     "name": "stdout",
     "output_type": "stream",
     "text": [
      "Sum of the List is: 30\n"
     ]
    }
   ],
   "source": [
    "#Python program to find sum of elements in list\n",
    "Total = 0\n",
    "# List of integer Values\n",
    "List = [5,3,6,9,7]\n",
    "#Iteration over the list\n",
    "for i in range(0,len(List)):\n",
    "    Total = Total + List[i]\n",
    "    \n",
    "#Print the Value\n",
    "print(\"Sum of the List is:\", Total)"
   ]
  },
  {
   "cell_type": "markdown",
   "id": "fe1137c3",
   "metadata": {},
   "source": [
    "### 2. Write a Python program to  Multiply all numbers in the list?"
   ]
  },
  {
   "cell_type": "code",
   "execution_count": 5,
   "id": "a6b6de22",
   "metadata": {},
   "outputs": [
    {
     "name": "stdout",
     "output_type": "stream",
     "text": [
      "Multiplication of the List is: 5670\n"
     ]
    }
   ],
   "source": [
    "# Python program to  Multiply all numbers in the list\n",
    "Product = 1\n",
    "# List of integer Values\n",
    "List = [5,3,6,9,7]\n",
    "#Iteration over the list\n",
    "for i in range(0,len(List)):\n",
    "    Product = Product * List[i]\n",
    "    \n",
    "#Print the Value\n",
    "print(\"Multiplication of the List is:\", Product)"
   ]
  },
  {
   "cell_type": "markdown",
   "id": "078681db",
   "metadata": {},
   "source": [
    "### 3. Write a Python program to find smallest number in a list?"
   ]
  },
  {
   "cell_type": "code",
   "execution_count": 6,
   "id": "07ce1b20",
   "metadata": {},
   "outputs": [
    {
     "name": "stdout",
     "output_type": "stream",
     "text": [
      "Smallest element is: 3\n"
     ]
    }
   ],
   "source": [
    "#Python program to find smallest number in a list\n",
    "# List of integer Values\n",
    "List = [5,3,6,9,7]\n",
    " \n",
    "# sorting the list value\n",
    "List.sort()\n",
    " \n",
    "# printing the Smallest element\n",
    "print(\"Smallest element is:\", List[0])"
   ]
  },
  {
   "attachments": {},
   "cell_type": "markdown",
   "id": "12b04397",
   "metadata": {},
   "source": [
    "### 4. Write a Python program to find largest number in a list?"
   ]
  },
  {
   "cell_type": "code",
   "execution_count": 7,
   "id": "b42466d7",
   "metadata": {},
   "outputs": [
    {
     "name": "stdout",
     "output_type": "stream",
     "text": [
      "Largest element is: 9\n"
     ]
    }
   ],
   "source": [
    "#Python program to find largest number in a list\n",
    "# List of integer Values\n",
    "List = [5,3,6,9,7]\n",
    " \n",
    "# sorting the list value\n",
    "List.sort()\n",
    " \n",
    "# printing the Largest element\n",
    "print(\"Largest element is:\", List[-1])"
   ]
  },
  {
   "cell_type": "markdown",
   "id": "86442b51",
   "metadata": {},
   "source": [
    "### 5. Write a Python program to find second largest number in a list?"
   ]
  },
  {
   "cell_type": "code",
   "execution_count": 8,
   "id": "dab4d6bb",
   "metadata": {},
   "outputs": [
    {
     "name": "stdout",
     "output_type": "stream",
     "text": [
      "Second Largest element is: 7\n"
     ]
    }
   ],
   "source": [
    "#Python program to find second largest number in a list\n",
    "# List of integer Values\n",
    "List = [5,3,6,9,7]\n",
    " \n",
    "# sorting the list value\n",
    "List.sort()\n",
    " \n",
    "# printing the Second Largest element\n",
    "print(\"Second Largest element is:\", List[-2])"
   ]
  },
  {
   "cell_type": "markdown",
   "id": "10964d7d",
   "metadata": {},
   "source": [
    "### 6. Write a Python program to find N largest elements from a list?"
   ]
  },
  {
   "cell_type": "code",
   "execution_count": 9,
   "id": "cb0dc426",
   "metadata": {},
   "outputs": [
    {
     "name": "stdout",
     "output_type": "stream",
     "text": [
      "2 max elements in  [5, 3, 6, 9, 7, 2, 6, 7, 9]\n",
      "[9, 9]\n"
     ]
    }
   ],
   "source": [
    "#Python program to find N largest elements from a list\n",
    "\n",
    "#Create a function to find N largest elements\n",
    "def N_Larg_element(List, N):\n",
    "    Final_list = []\n",
    "  \n",
    "    for i in range(0, N): \n",
    "        max = 0\n",
    "          \n",
    "        for j in range(len(List)):     \n",
    "            if List[j] > max:\n",
    "                max = List[j]\n",
    "                  \n",
    "        List.remove(max)\n",
    "        Final_list.append(max)\n",
    "          \n",
    "    return Final_list\n",
    "  \n",
    "#test\n",
    "List_1 = [5, 3, 6, 9, 7, 2, 6, 7, 9]\n",
    "N = 2\n",
    "\n",
    "print(N, \"max elements in \",List_1)\n",
    "  \n",
    "# printing the function\n",
    "print(N_Larg_element(List_1, N))"
   ]
  },
  {
   "cell_type": "markdown",
   "id": "2f1a1e98",
   "metadata": {},
   "source": [
    "### 7. Write a Python program to print even numbers in a list?"
   ]
  },
  {
   "cell_type": "code",
   "execution_count": 11,
   "id": "e137832c",
   "metadata": {},
   "outputs": [
    {
     "name": "stdout",
     "output_type": "stream",
     "text": [
      "6 2 6 10 4 8 "
     ]
    }
   ],
   "source": [
    "# Python program to print even numbers in a list\n",
    " \n",
    "# list of numbers\n",
    "List = [5, 3, 6, 9, 7, 2, 6, 7, 9, 10, 4, 8]\n",
    " \n",
    "# Iterating each number in the list\n",
    "for i in List:\n",
    "    if i % 2 == 0:\n",
    "        print(i, end=\" \")"
   ]
  },
  {
   "cell_type": "markdown",
   "id": "989bb324",
   "metadata": {},
   "source": [
    "### 8. Write a Python program to print odd numbers in a List?"
   ]
  },
  {
   "cell_type": "code",
   "execution_count": 12,
   "id": "baf3ac19",
   "metadata": {},
   "outputs": [
    {
     "name": "stdout",
     "output_type": "stream",
     "text": [
      "5 3 9 7 7 9 "
     ]
    }
   ],
   "source": [
    "# Python program to print odd numbers in a List\n",
    " \n",
    "# list of numbers\n",
    "List = [5, 3, 6, 9, 7, 2, 6, 7, 9, 10, 4, 8]\n",
    " \n",
    "# Iterating each number in the list\n",
    "for i in List:\n",
    "    if i % 2 != 0:\n",
    "        print(i, end=\" \")"
   ]
  },
  {
   "cell_type": "markdown",
   "id": "185b7b13",
   "metadata": {},
   "source": [
    "### 9. Write a Python program to Remove empty List from List?"
   ]
  },
  {
   "cell_type": "code",
   "execution_count": 13,
   "id": "42083f31",
   "metadata": {},
   "outputs": [
    {
     "name": "stdout",
     "output_type": "stream",
     "text": [
      "The Intial list is : [5, 3, 6, 9, [], 7, 2, 6, [], 7, 9, [], 10, 4, 8]\n",
      "List after empty list removal : [5, 3, 6, 9, 7, 2, 6, 7, 9, 10, 4, 8]\n"
     ]
    }
   ],
   "source": [
    "# Python program to Remove empty List from List\n",
    "\n",
    "# Intial List with empty list\n",
    "List = [5, 3, 6, 9, [], 7, 2, 6, [], 7, 9, [], 10, 4, 8]\n",
    "\n",
    "# print the Intial list\n",
    "print(\"The Intial list is : \" + str(List))\n",
    "\n",
    "# Remove  the empty List from  the initial List\n",
    "\n",
    "result = [i for i in List if i != []]\n",
    "\n",
    "# print the result\n",
    "print(\"List after empty list removal : \" + str(result))\n"
   ]
  },
  {
   "cell_type": "markdown",
   "id": "278cfacc",
   "metadata": {},
   "source": [
    "### 10. Write a Python program to Cloning or Copying a list?"
   ]
  },
  {
   "cell_type": "code",
   "execution_count": 14,
   "id": "acd35f29",
   "metadata": {},
   "outputs": [
    {
     "name": "stdout",
     "output_type": "stream",
     "text": [
      "Original the List: [5, 3, 6, 9, 7, 2, 6, 7, 9, 10, 4, 8]\n",
      "After Cloning the List: [5, 3, 6, 9, 7, 2, 6, 7, 9, 10, 4, 8]\n"
     ]
    }
   ],
   "source": [
    "#Python program to Cloning or Copying a list\n",
    "# Creating a Function\n",
    "def Clone(list_1):\n",
    "    list_copy = list_1\n",
    "    return list_copy\n",
    "   \n",
    "# List Value\n",
    "list_1 = [5, 3, 6, 9, 7, 2, 6, 7, 9, 10, 4, 8]\n",
    "list_2 = Clone(list_1)\n",
    "print(\"Original the List:\", list_1)\n",
    "print(\"After Cloning the List:\", list_2)"
   ]
  },
  {
   "cell_type": "markdown",
   "id": "b359bedf",
   "metadata": {},
   "source": [
    "### 11. Write a Python program to Count occurrences of an element in a list?"
   ]
  },
  {
   "cell_type": "code",
   "execution_count": 15,
   "id": "b96ca583",
   "metadata": {},
   "outputs": [
    {
     "name": "stdout",
     "output_type": "stream",
     "text": [
      "7 has occurred 3 times\n"
     ]
    }
   ],
   "source": [
    "# Python program to Count occurrences of an element in a list\n",
    "def count_occurence(List, n):\n",
    "    return List.count(n)\n",
    " \n",
    " \n",
    "# Input value of the list\n",
    "List = [5, 3, 6, 9, 7, 2, 6, 7, 9, 10, 7, 8]\n",
    "n = 7\n",
    "print('{} has occurred {} times'.format(n,count_occurence(List, n)))"
   ]
  }
 ],
 "metadata": {
  "kernelspec": {
   "display_name": "Python 3",
   "language": "python",
   "name": "python3"
  },
  "language_info": {
   "codemirror_mode": {
    "name": "ipython",
    "version": 3
   },
   "file_extension": ".py",
   "mimetype": "text/x-python",
   "name": "python",
   "nbconvert_exporter": "python",
   "pygments_lexer": "ipython3",
   "version": "3.10.7"
  },
  "vscode": {
   "interpreter": {
    "hash": "27f6fea6f47ae512550f0b8facdbd035a93e1dd89633f7bf2dd00a2502c71d0d"
   }
  }
 },
 "nbformat": 4,
 "nbformat_minor": 5
}
