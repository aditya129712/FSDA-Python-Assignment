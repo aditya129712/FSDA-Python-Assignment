{
 "cells": [
  {
   "cell_type": "markdown",
   "id": "7df6e6a0",
   "metadata": {},
   "source": [
    "## Python Basic Programming Assignment - 15\n",
    "-------------------"
   ]
  },
  {
   "attachments": {},
   "cell_type": "markdown",
   "id": "de299c62",
   "metadata": {},
   "source": [
    "### 1. Please write a program using generator to print the numbers which can be divisible by 5 and 7 between 0 and n in comma separated form while n is input by console."
   ]
  },
  {
   "attachments": {},
   "cell_type": "markdown",
   "id": "565e6984",
   "metadata": {},
   "source": [
    "Enter a number: 50"
   ]
  },
  {
   "cell_type": "code",
   "execution_count": 8,
   "id": "7db7031d",
   "metadata": {},
   "outputs": [
    {
     "name": "stdout",
     "output_type": "stream",
     "text": [
      "0,35\n"
     ]
    }
   ],
   "source": [
    "def divisible_by_5_and_7(n):\n",
    "    for i in range(n+1):\n",
    "        if i % 5 == 0 and i % 7 == 0:\n",
    "            yield i\n",
    "\n",
    "n = int(input(\"Enter a number: \"))\n",
    "result = divisible_by_5_and_7(n)\n",
    "output = \",\".join(str(i) for i in result)\n",
    "print(output)\n"
   ]
  },
  {
   "attachments": {},
   "cell_type": "markdown",
   "id": "c04aab80",
   "metadata": {},
   "source": [
    "### 2. Please write a program using generator to print the even numbers between 0 and n in comma separated form while n is input by console."
   ]
  },
  {
   "attachments": {},
   "cell_type": "markdown",
   "id": "386f806b",
   "metadata": {},
   "source": [
    "Enter a number: 10"
   ]
  },
  {
   "cell_type": "code",
   "execution_count": 9,
   "id": "2b480e42",
   "metadata": {},
   "outputs": [
    {
     "name": "stdout",
     "output_type": "stream",
     "text": [
      "0,2,4,6,8,10\n"
     ]
    }
   ],
   "source": [
    "def even_numbers(n):\n",
    "    for i in range(0, n+1, 2):\n",
    "        yield i\n",
    "\n",
    "n = int(input(\"Enter a number: \"))\n",
    "result = even_numbers(n)\n",
    "output = \",\".join(str(i) for i in result)\n",
    "print(output)\n"
   ]
  },
  {
   "cell_type": "markdown",
   "id": "35b72559",
   "metadata": {},
   "source": [
    "### 3. Please write a program using list comprehension to print the Fibonacci Sequence in comma separated form with a given n input by console."
   ]
  },
  {
   "attachments": {},
   "cell_type": "markdown",
   "id": "7febc112",
   "metadata": {},
   "source": [
    "Enter a number: 30"
   ]
  },
  {
   "cell_type": "code",
   "execution_count": 11,
   "id": "c0694069",
   "metadata": {},
   "outputs": [
    {
     "name": "stdout",
     "output_type": "stream",
     "text": [
      "0,1,1,2,3,5,8,13,21\n"
     ]
    }
   ],
   "source": [
    "n = int(input(\"Enter a number: \"))\n",
    "\n",
    "fibonacci = [0, 1]\n",
    "[fibonacci.append(fibonacci[-2] + fibonacci[-1]) for i in range(n-2) if fibonacci[-2] + fibonacci[-1] <= n]\n",
    "\n",
    "output = \",\".join(str(i) for i in fibonacci)\n",
    "print(output)\n"
   ]
  },
  {
   "attachments": {},
   "cell_type": "markdown",
   "id": "dea0be0f",
   "metadata": {},
   "source": [
    "### 4. Assuming that we have some email addresses in the \"username@companyname.com\" format, please write program to print the user name of a given email address. Both user names and company names are composed of letters only."
   ]
  },
  {
   "attachments": {},
   "cell_type": "markdown",
   "id": "400c4628",
   "metadata": {},
   "source": [
    "Enter an email address: adityagautam1297@gmail.com\n",
    "Username: adityagautam1297\n"
   ]
  },
  {
   "cell_type": "code",
   "execution_count": 12,
   "id": "9a3746db",
   "metadata": {},
   "outputs": [
    {
     "name": "stdout",
     "output_type": "stream",
     "text": [
      "Username:  adityagautam1297\n"
     ]
    }
   ],
   "source": [
    "email = input(\"Enter an email address: \")\n",
    "\n",
    "username = email.split(\"@\")[0]\n",
    "\n",
    "print(\"Username: \", username)\n"
   ]
  },
  {
   "attachments": {},
   "cell_type": "markdown",
   "id": "2834c88f",
   "metadata": {},
   "source": [
    "### 5. Define a class named Shape and its subclass Square. The Square class has an init function which takes a length as argument. Both classes have a area function which can print the area of the shape where Shape's area is 0 by default."
   ]
  },
  {
   "cell_type": "code",
   "execution_count": 13,
   "id": "4ef95dbd",
   "metadata": {},
   "outputs": [],
   "source": [
    "class Shape:\n",
    "    def area(self):\n",
    "        return 0\n",
    "\n",
    "class Square(Shape):\n",
    "    def __init__(self, length):\n",
    "        self.length = length\n",
    "    \n",
    "    def area(self):\n",
    "        return self.length ** 2\n"
   ]
  },
  {
   "cell_type": "code",
   "execution_count": 14,
   "id": "29d037c2",
   "metadata": {},
   "outputs": [
    {
     "name": "stdout",
     "output_type": "stream",
     "text": [
      "Area of square: 36\n",
      "Area of shape: 0\n"
     ]
    }
   ],
   "source": [
    "square = Square(6)\n",
    "print(\"Area of square:\", square.area())\n",
    "\n",
    "shape = Shape()\n",
    "print(\"Area of shape:\", shape.area())\n"
   ]
  }
 ],
 "metadata": {
  "kernelspec": {
   "display_name": "Python 3 (ipykernel)",
   "language": "python",
   "name": "python3"
  },
  "language_info": {
   "codemirror_mode": {
    "name": "ipython",
    "version": 3
   },
   "file_extension": ".py",
   "mimetype": "text/x-python",
   "name": "python",
   "nbconvert_exporter": "python",
   "pygments_lexer": "ipython3",
   "version": "3.10.10"
  }
 },
 "nbformat": 4,
 "nbformat_minor": 5
}
