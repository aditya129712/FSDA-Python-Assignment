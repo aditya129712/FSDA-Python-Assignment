{
 "cells": [
  {
   "cell_type": "markdown",
   "id": "62fd0c8e",
   "metadata": {},
   "source": [
    "# Python Programming Basic Assignment 13"
   ]
  },
  {
   "cell_type": "markdown",
   "id": "ed4a3c0b",
   "metadata": {},
   "source": [
    "\n",
    "### 1. Write a program that calculates and prints the value according to the given formula:\n",
    "Q = Square root of [(2 C D)/H]\n",
    "\n",
    "Following are the fixed values of C and H:\n",
    "\n",
    "C is 50. H is 30.\n",
    "\n",
    "D is the variable whose values should be input to your program in a comma-separated sequence.\n",
    "\n",
    "Example\n",
    "\n",
    "Let us assume the following comma separated input sequence is given to the program:\n",
    "\n",
    "100,150,180\n",
    "\n",
    "The output of the program should be:\n",
    "\n",
    "18,22,24"
   ]
  },
  {
   "attachments": {},
   "cell_type": "markdown",
   "id": "9c7a0a3b",
   "metadata": {},
   "source": [
    "Enter comma-separated values for D: 100,150,180\n",
    "18,22,24"
   ]
  },
  {
   "cell_type": "code",
   "execution_count": 6,
   "id": "1d3a4eed",
   "metadata": {},
   "outputs": [
    {
     "name": "stdout",
     "output_type": "stream",
     "text": [
      "[18, 18, 18, 19, 19]\n"
     ]
    }
   ],
   "source": [
    "import math\n",
    "\n",
    "numbers = input(\"Provide D: \")\n",
    "numbers = numbers.split(',')\n",
    "\n",
    "result_list = []\n",
    "for D in numbers:\n",
    "    Q = round(math.sqrt(2 * 50 * int(D) / 30))\n",
    "    result_list.append(Q)\n",
    "\n",
    "print(result_list)"
   ]
  },
  {
   "cell_type": "markdown",
   "id": "ed37b6ed",
   "metadata": {},
   "source": [
    "### 2. Write a program which takes 2 digits, X,Y as input and generates a 2-dimensional array. The element value in the i-th row and j-th column of the array should be i*j."
   ]
  },
  {
   "attachments": {},
   "cell_type": "markdown",
   "id": "f8b4ee76",
   "metadata": {},
   "source": [
    "Enter the number of rows: 3\n",
    "Enter the number of columns: 4\n"
   ]
  },
  {
   "cell_type": "code",
   "execution_count": 7,
   "id": "e4c8c389",
   "metadata": {},
   "outputs": [
    {
     "name": "stdout",
     "output_type": "stream",
     "text": [
      "0 0 0 0 \n",
      "0 1 2 3 \n",
      "0 2 4 6 \n"
     ]
    }
   ],
   "source": [
    "# Read the input values for X and Y\n",
    "X = int(input(\"Enter the number of rows: \"))\n",
    "Y = int(input(\"Enter the number of columns: \"))\n",
    "\n",
    "# Create a 2-dimensional array with values i*j\n",
    "arr = [[i*j for j in range(Y)] for i in range(X)]\n",
    "\n",
    "# Print the array\n",
    "for i in range(X):\n",
    "    for j in range(Y):\n",
    "        print(arr[i][j], end=\" \")\n",
    "    print()\n"
   ]
  },
  {
   "cell_type": "markdown",
   "id": "bc7f977b",
   "metadata": {},
   "source": [
    "### 3. Write a program that accepts a comma separated sequence of words as input and prints the words in a comma-separated sequence after sorting them alphabetically."
   ]
  },
  {
   "attachments": {},
   "cell_type": "markdown",
   "id": "529a93e3",
   "metadata": {},
   "source": [
    "Enter comma-separated words: banana,apple,pear,orange\n",
    "apple,banana,orange,pear\n"
   ]
  },
  {
   "cell_type": "code",
   "execution_count": 9,
   "id": "d00511d1",
   "metadata": {},
   "outputs": [
    {
     "name": "stdout",
     "output_type": "stream",
     "text": [
      " banana,apple,banana,orange,orange apple,pear,pear\n"
     ]
    }
   ],
   "source": [
    "# Read the input sequence of words\n",
    "input_str = input(\"Enter comma-separated words: \")\n",
    "words = input_str.split(\",\")\n",
    "\n",
    "# Sort the words alphabetically\n",
    "words_sorted = sorted(words)\n",
    "\n",
    "# Print the sorted words in a comma-separated sequence\n",
    "output_str = \",\".join(words_sorted)\n",
    "print(output_str)\n"
   ]
  },
  {
   "cell_type": "markdown",
   "id": "171c3d90",
   "metadata": {},
   "source": [
    "### 4. Write a program that accepts a sequence of whitespace separated words as input and prints the words after removing all duplicate words and sorting them alphanumerically."
   ]
  },
  {
   "attachments": {},
   "cell_type": "markdown",
   "id": "114ad1d0",
   "metadata": {},
   "source": [
    "Enter whitespace-separated words: apple banana pear banana orange\n",
    "apple banana orange pear\n"
   ]
  },
  {
   "cell_type": "code",
   "execution_count": 10,
   "id": "c1eb8095",
   "metadata": {},
   "outputs": [
    {
     "name": "stdout",
     "output_type": "stream",
     "text": [
      "apple banana orange pear\n"
     ]
    }
   ],
   "source": [
    "# Read the input sequence of words\n",
    "input_str = input(\"Enter whitespace-separated words: \")\n",
    "words = input_str.split()\n",
    "\n",
    "# Remove duplicate words\n",
    "words_unique = list(set(words))\n",
    "\n",
    "# Sort the unique words alphabetically\n",
    "words_sorted = sorted(words_unique)\n",
    "\n",
    "# Print the sorted unique words\n",
    "output_str = \" \".join(words_sorted)\n",
    "print(output_str)\n"
   ]
  },
  {
   "cell_type": "markdown",
   "id": "88d25c49",
   "metadata": {},
   "source": [
    "### 5. Write a program that accepts a sentence and calculate the number of letters and digits."
   ]
  },
  {
   "attachments": {},
   "cell_type": "markdown",
   "id": "51f0895b",
   "metadata": {},
   "source": [
    "Enter a sentence: Hello World! 123\n",
    "Number of letters: 10\n",
    "Number of digits: 3\n"
   ]
  },
  {
   "cell_type": "code",
   "execution_count": 11,
   "id": "ce0bb98a",
   "metadata": {},
   "outputs": [
    {
     "name": "stdout",
     "output_type": "stream",
     "text": [
      "Number of letters: 10\n",
      "Number of digits: 3\n"
     ]
    }
   ],
   "source": [
    "# Read the input sentence\n",
    "input_str = input(\"Enter a sentence: \")\n",
    "\n",
    "# Initialize counters for letters and digits\n",
    "num_letters = 0\n",
    "num_digits = 0\n",
    "\n",
    "# Iterate over the characters in the sentence\n",
    "for char in input_str:\n",
    "    # Check if the character is a letter\n",
    "    if char.isalpha():\n",
    "        num_letters += 1\n",
    "    # Check if the character is a digit\n",
    "    elif char.isdigit():\n",
    "        num_digits += 1\n",
    "\n",
    "# Print the results\n",
    "print(\"Number of letters:\", num_letters)\n",
    "print(\"Number of digits:\", num_digits)\n"
   ]
  },
  {
   "cell_type": "markdown",
   "id": "9695c4ca",
   "metadata": {},
   "source": [
    "### 6. A website requires the users to input username and password to register. Write a program to check the validity of password input by users."
   ]
  },
  {
   "attachments": {},
   "cell_type": "markdown",
   "id": "135537af",
   "metadata": {},
   "source": [
    "Enter your password: P@ssWord#123\n"
   ]
  },
  {
   "cell_type": "code",
   "execution_count": 13,
   "id": "32e85b03",
   "metadata": {},
   "outputs": [
    {
     "name": "stdout",
     "output_type": "stream",
     "text": [
      "Password is valid\n"
     ]
    }
   ],
   "source": [
    "# Read the password from the user\n",
    "password = input(\"Enter your password: \")\n",
    "\n",
    "# Define the criteria for a valid password\n",
    "valid_chars = \"abcdefghijklmnopqrstuvwxyzABCDEFGHIJKLMNOPQRSTUVWXYZ0123456789!@#$%^&*()-_=+[{]}\\|;:'\\\",<.>/?\"\n",
    "num_uppercase = 0\n",
    "num_lowercase = 0\n",
    "num_digit = 0\n",
    "num_special = 0\n",
    "\n",
    "# Check the length and characters of the password\n",
    "if len(password) >= 8:\n",
    "    for char in password:\n",
    "        if char in valid_chars:\n",
    "            if char.isupper():\n",
    "                num_uppercase += 1\n",
    "            elif char.islower():\n",
    "                num_lowercase += 1\n",
    "            elif char.isdigit():\n",
    "                num_digit += 1\n",
    "            else:\n",
    "                num_special += 1\n",
    "\n",
    "# Check if the password is valid\n",
    "if num_uppercase > 0 and num_lowercase > 0 and num_digit > 0 and num_special > 0:\n",
    "    print(\"Password is valid\")\n",
    "else:\n",
    "    print(\"Password is invalid\")\n"
   ]
  }
 ],
 "metadata": {
  "kernelspec": {
   "display_name": "Python 3 (ipykernel)",
   "language": "python",
   "name": "python3"
  },
  "language_info": {
   "codemirror_mode": {
    "name": "ipython",
    "version": 3
   },
   "file_extension": ".py",
   "mimetype": "text/x-python",
   "name": "python",
   "nbconvert_exporter": "python",
   "pygments_lexer": "ipython3",
   "version": "3.10.10"
  }
 },
 "nbformat": 4,
 "nbformat_minor": 5
}
