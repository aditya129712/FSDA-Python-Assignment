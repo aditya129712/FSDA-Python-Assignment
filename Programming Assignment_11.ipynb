{
 "cells": [
  {
   "cell_type": "markdown",
   "id": "53c7e882",
   "metadata": {},
   "source": [
    "# Python Basic Programming Assignment 11\n",
    "--------------------"
   ]
  },
  {
   "cell_type": "markdown",
   "id": "051da140",
   "metadata": {},
   "source": [
    "### 1. Write a Python program to find words which are greater than given length k?"
   ]
  },
  {
   "cell_type": "code",
   "execution_count": 1,
   "id": "fc89a851",
   "metadata": {},
   "outputs": [
    {
     "name": "stdout",
     "output_type": "stream",
     "text": [
      "Welcome\n",
      "python\n",
      "assignment\n"
     ]
    }
   ],
   "source": [
    "#Python program to find words which are greater than given length k\n",
    "\n",
    "def find_word_k(k, s):       ## creating a function\n",
    "    word = s.split(\" \")      ## Split the String \n",
    "    for x in word:           ## iterating the loop for every word\n",
    "        if len(x)>k:         ## Lenght of the word\n",
    "          print(x)           ##  Print the value\n",
    "k = 4\n",
    "s =\"Welcome to the python assignment\"\n",
    "find_word_k(k, s)"
   ]
  },
  {
   "cell_type": "markdown",
   "id": "26719cbd",
   "metadata": {},
   "source": [
    "### 2. Write a Python program for removing i-th character from a string?"
   ]
  },
  {
   "cell_type": "code",
   "execution_count": 2,
   "id": "a69692ff",
   "metadata": {},
   "outputs": [
    {
     "name": "stdout",
     "output_type": "stream",
     "text": [
      "Welcoe to the python assignment\n"
     ]
    }
   ],
   "source": [
    "# Python program for removing i-th character from a string\n",
    "def Char_remove(S, i):\n",
    "    x = S[ : i]\n",
    "    y = S[i + 1: ]\n",
    "\n",
    "    return x+y\n",
    "\n",
    "str = \"Welcome to the python assignment\"\n",
    "i = 6\n",
    "print(Char_remove(str,i-1))"
   ]
  },
  {
   "cell_type": "markdown",
   "id": "51ae6b0f",
   "metadata": {},
   "source": [
    "### 3. Write a Python program to split and join a string?"
   ]
  },
  {
   "cell_type": "code",
   "execution_count": 7,
   "id": "341673d2",
   "metadata": {},
   "outputs": [
    {
     "name": "stdout",
     "output_type": "stream",
     "text": [
      "['Welcome', 'to', 'the', 'python', 'assignment']\n",
      "Welcome_to_the_python_assignment\n"
     ]
    }
   ],
   "source": [
    "# Python program to split and join a string\n",
    " \n",
    "def str_split(str):\n",
    " \n",
    "    str_list = str.split(' ')     # Split the string based on space delimiter\n",
    "     \n",
    "    return str_list\n",
    " \n",
    "def join_string(str_list):\n",
    " \n",
    "    string = '_'.join(str_list)   # Join the string based on '-' delimiter\n",
    "     \n",
    "    return string\n",
    " \n",
    "# Main Function \n",
    "\n",
    "if __name__ == '__main__':\n",
    "    string = \"Welcome to the python assignment\"\n",
    "     \n",
    "    str_list = str_split(string)    # Splitting a string\n",
    "    print(str_list)\n",
    " \n",
    "    final_string = join_string(str_list)  # Join list of strings into one\n",
    "    print(final_string)"
   ]
  },
  {
   "cell_type": "markdown",
   "id": "59079fe1",
   "metadata": {},
   "source": [
    "### 4. Write a Python to check if a given string is binary string or not?"
   ]
  },
  {
   "cell_type": "code",
   "execution_count": 12,
   "id": "a31ee444",
   "metadata": {},
   "outputs": [
    {
     "name": "stdout",
     "output_type": "stream",
     "text": [
      "Binary String\n",
      "Non Binary String\n"
     ]
    }
   ],
   "source": [
    "#Python Program to check if a given string is binary string or not\n",
    "\n",
    "def binary_check(str) :\n",
    "    b = set(str)\n",
    "    s = {'0', '1'}\n",
    "    if s == b or b == {'0'} or b == {'1'}:\n",
    "        print(\"Binary String\")\n",
    "    else :\n",
    "        print(\"Non Binary String\")\n",
    "  \n",
    "a1= \"1011001101\"\n",
    "binary_check(a1)         ## function input\n",
    "a2 = \"1060100110200301\"\n",
    "binary_check(a2)"
   ]
  },
  {
   "cell_type": "markdown",
   "id": "4d6cf11a",
   "metadata": {},
   "source": [
    "### 5. Write a Python program to find uncommon words from two Strings?"
   ]
  },
  {
   "cell_type": "code",
   "execution_count": 14,
   "id": "e9be4291",
   "metadata": {},
   "outputs": [
    {
     "name": "stdout",
     "output_type": "stream",
     "text": [
      "['of', 'FSDA', 'batch_1']\n"
     ]
    }
   ],
   "source": [
    "# Python program to find uncommon words from two Strings\n",
    "\n",
    "def is_uncommon(a1, a2):\n",
    "    count = {}\n",
    "    for word in a1.split():\n",
    "        count[word] = count.get(word, 0) + 1\n",
    "    for word in a2.split():           \n",
    "        count[word] = count.get(word, 0) + 1\n",
    "    # return the list of words\n",
    "    return [word for word in count if count[word] == 1]\n",
    "\n",
    "str_1=\"Welcome to the python assignment\"\n",
    "str_2=\"Welcome to the python assignment of FSDA batch_1\"\n",
    "  \n",
    "# Print required answer\n",
    "print(is_uncommon(str_1, str_2))"
   ]
  },
  {
   "cell_type": "markdown",
   "id": "e2b24677",
   "metadata": {},
   "source": [
    "### 6. Write a Python to find all duplicate characters in string?"
   ]
  },
  {
   "cell_type": "code",
   "execution_count": 15,
   "id": "74bce121",
   "metadata": {},
   "outputs": [
    {
     "name": "stdout",
     "output_type": "stream",
     "text": [
      "e o m   t h n s\n"
     ]
    }
   ],
   "source": [
    "# Python program to find all duplicate characters in string\n",
    "def duplicate_char(input):\n",
    "    x=[]\n",
    "    for i in input:\n",
    "        if i not in x and input.count(i)>1:\n",
    "            x.append(i)\n",
    "    print(\" \".join(x))\n",
    " \n",
    "# Input value\n",
    "if __name__ == \"__main__\":\n",
    "    input = \"Welcome to the python assignment\"\n",
    "    duplicate_char(input)"
   ]
  },
  {
   "cell_type": "markdown",
   "id": "1a6af7e4",
   "metadata": {},
   "source": [
    "### 7. Write a Python Program to check if a string contains any special character?"
   ]
  },
  {
   "cell_type": "code",
   "execution_count": 18,
   "id": "601d15bf",
   "metadata": {},
   "outputs": [
    {
     "name": "stdout",
     "output_type": "stream",
     "text": [
      "Welcome to the python assignment\n",
      "string accepted\n"
     ]
    }
   ],
   "source": [
    "# Python Program to check if a string contains any special character\n",
    "# Import The Regular Expression\n",
    "import re    \n",
    "\n",
    "def find_spec_char(string):\n",
    "    special_char=re.compile('[$%^\\|@_!}{~:&*()<>?/]#')     ## Using Regular Expression\n",
    "    \n",
    "    if special_char.search(string) == None:\n",
    "        return \"string accepted\"\n",
    "    else:\n",
    "        return \"string not accpeted\"\n",
    "   \n",
    "\n",
    "String = \"Welcome to the python assignment\"\n",
    "print(String)\n",
    "print(find_spec_char(String))"
   ]
  }
 ],
 "metadata": {
  "kernelspec": {
   "display_name": "Python 3",
   "language": "python",
   "name": "python3"
  },
  "language_info": {
   "codemirror_mode": {
    "name": "ipython",
    "version": 3
   },
   "file_extension": ".py",
   "mimetype": "text/x-python",
   "name": "python",
   "nbconvert_exporter": "python",
   "pygments_lexer": "ipython3",
   "version": "3.10.10"
  },
  "vscode": {
   "interpreter": {
    "hash": "65a440aeac0c89e2af7569e0aa53b64434c4b69eb6285e2b0d174d9bca190d54"
   }
  }
 },
 "nbformat": 4,
 "nbformat_minor": 5
}
