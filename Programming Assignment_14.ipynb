{
 "cells": [
  {
   "cell_type": "markdown",
   "id": "9bf47949",
   "metadata": {},
   "source": [
    "## Python Basic Programming Assignment - 14\n",
    "---------------------"
   ]
  },
  {
   "cell_type": "markdown",
   "id": "a8074819",
   "metadata": {},
   "source": [
    "### 1. Define a class with a generator which can iterate the numbers, which are divisible by 7, between a given range 0 and n."
   ]
  },
  {
   "cell_type": "code",
   "execution_count": 1,
   "id": "c3fa4c0e",
   "metadata": {},
   "outputs": [],
   "source": [
    "class DivisibleBySeven:\n",
    "    def __init__(self, n):\n",
    "        self.n = n\n",
    "    \n",
    "    def __iter__(self):\n",
    "        self.current = 0\n",
    "        return self\n",
    "    \n",
    "    def __next__(self):\n",
    "        while self.current <= self.n:\n",
    "            result = self.current\n",
    "            self.current += 1\n",
    "            if result % 7 == 0:\n",
    "                return result\n",
    "        raise StopIteration\n"
   ]
  },
  {
   "cell_type": "code",
   "execution_count": 2,
   "id": "5fbc2259",
   "metadata": {},
   "outputs": [
    {
     "name": "stdout",
     "output_type": "stream",
     "text": [
      "0\n",
      "7\n",
      "14\n",
      "21\n",
      "28\n",
      "35\n",
      "42\n",
      "49\n"
     ]
    }
   ],
   "source": [
    "divisible_by_seven = DivisibleBySeven(50)\n",
    "for num in divisible_by_seven:\n",
    "    print(num)"
   ]
  },
  {
   "attachments": {},
   "cell_type": "markdown",
   "id": "8127371b",
   "metadata": {},
   "source": [
    "### 2. Write a program to compute the frequency of the words from the input. The output should output after sorting the key alphanumerically."
   ]
  },
  {
   "attachments": {},
   "cell_type": "markdown",
   "id": "f3d8bb30",
   "metadata": {},
   "source": [
    "Enter a sentence: hello world welcome to the python assignment"
   ]
  },
  {
   "cell_type": "code",
   "execution_count": 4,
   "id": "128e02ec",
   "metadata": {},
   "outputs": [
    {
     "name": "stdout",
     "output_type": "stream",
     "text": [
      "assignment: 1\n",
      "hello: 1\n",
      "python: 1\n",
      "the: 1\n",
      "to: 1\n",
      "welcome: 1\n",
      "world: 1\n"
     ]
    }
   ],
   "source": [
    "sentence = input(\"Enter a sentence: \")\n",
    "\n",
    "# Split the input sentence into words and create an empty dictionary to store the frequency of each word\n",
    "words = sentence.split()\n",
    "frequency = {}\n",
    "\n",
    "# Iterate over each word and count its frequency\n",
    "for word in words:\n",
    "    if word in frequency:\n",
    "        frequency[word] += 1\n",
    "    else:\n",
    "        frequency[word] = 1\n",
    "\n",
    "# Sort the dictionary by key in alphabetical order\n",
    "sorted_frequency = sorted(frequency.items())\n",
    "\n",
    "# Print the sorted frequency\n",
    "for word, count in sorted_frequency:\n",
    "    print(f\"{word}: {count}\")\n"
   ]
  },
  {
   "attachments": {},
   "cell_type": "markdown",
   "id": "4e869c3c",
   "metadata": {},
   "source": [
    "### 3. Define a class Person and its two child classes: Male and Female. All classes have a method \"getGender\" which can print \"Male\" for Male class and \"Female\" for Female class."
   ]
  },
  {
   "cell_type": "code",
   "execution_count": 5,
   "id": "24f9276f",
   "metadata": {},
   "outputs": [],
   "source": [
    "class Person:\n",
    "    def __init__(self, name):\n",
    "        self.name = name\n",
    "        \n",
    "    def getGender(self):\n",
    "        pass\n",
    "\n",
    "class Male(Person):\n",
    "    def getGender(self):\n",
    "        print(\"Male\")\n",
    "\n",
    "class Female(Person):\n",
    "    def getGender(self):\n",
    "        print(\"Female\")\n"
   ]
  },
  {
   "cell_type": "code",
   "execution_count": 6,
   "id": "10d93943",
   "metadata": {},
   "outputs": [
    {
     "name": "stdout",
     "output_type": "stream",
     "text": [
      "Male\n",
      "Female\n"
     ]
    }
   ],
   "source": [
    "person1 = Male(\"Aditya\")\n",
    "person1.getGender()  # Output: \"Male\"\n",
    "\n",
    "person2 = Female(\"Shivani\")\n",
    "person2.getGender()  # Output: \"Female\"\n"
   ]
  },
  {
   "attachments": {},
   "cell_type": "markdown",
   "id": "58b5940f",
   "metadata": {},
   "source": [
    "### 4. Please write a program to generate all sentences where subject is in [\"I\", \"You\"] and verb is in ['Play', \"Love\"] and the object is in [\"Hockey\",\"Football\"]."
   ]
  },
  {
   "cell_type": "code",
   "execution_count": 8,
   "id": "5e27ba49",
   "metadata": {},
   "outputs": [
    {
     "name": "stdout",
     "output_type": "stream",
     "text": [
      "I Play Cricket.\n",
      "I Play Badminton.\n",
      "I Love Cricket.\n",
      "I Love Badminton.\n",
      "We Play Cricket.\n",
      "We Play Badminton.\n",
      "We Love Cricket.\n",
      "We Love Badminton.\n"
     ]
    }
   ],
   "source": [
    "subjects = [\"I\", \"We\"]\n",
    "verbs = [\"Play\", \"Love\"]\n",
    "objects = [\"Cricket\", \"Badminton\"]\n",
    "\n",
    "sentences = []\n",
    "\n",
    "# Generate all possible sentences\n",
    "for subject in subjects:\n",
    "    for verb in verbs:\n",
    "        for obj in objects:\n",
    "            sentence = f\"{subject} {verb} {obj}.\"\n",
    "            sentences.append(sentence)\n",
    "\n",
    "# Print all generated sentences\n",
    "for sentence in sentences:\n",
    "    print(sentence)\n"
   ]
  },
  {
   "attachments": {},
   "cell_type": "markdown",
   "id": "0ddf4f59",
   "metadata": {},
   "source": [
    "### 5. Please write a program to compress and decompress the string \"hello world!hello world!hello world!hello world!\""
   ]
  },
  {
   "cell_type": "code",
   "execution_count": 9,
   "id": "285a0eb7",
   "metadata": {},
   "outputs": [
    {
     "name": "stdout",
     "output_type": "stream",
     "text": [
      "Compressed data: b'\\x1f\\x8b\\x08\\x00I^\\x03d\\x02\\xff\\xcbH\\xcd\\xc9\\xc9W(\\xcf/\\xcaIQ\\xcc \\x82\\r\\x00\\xd3\\xe6\\xcf\\xae0\\x00\\x00\\x00'\n",
      "Decompressed data: hello world!hello world!hello world!hello world!\n"
     ]
    }
   ],
   "source": [
    "import gzip\n",
    "\n",
    "# Compress the string\n",
    "compressed_data = gzip.compress(b\"hello world!hello world!hello world!hello world!\")\n",
    "\n",
    "# Print the compressed data\n",
    "print(\"Compressed data:\", compressed_data)\n",
    "\n",
    "# Decompress the data\n",
    "decompressed_data = gzip.decompress(compressed_data)\n",
    "\n",
    "# Print the decompressed data\n",
    "print(\"Decompressed data:\", decompressed_data.decode())\n"
   ]
  },
  {
   "attachments": {},
   "cell_type": "markdown",
   "id": "2aeb595b",
   "metadata": {},
   "source": [
    "### 6. Please write a binary search function which searches an item in a sorted list. The function should return the index of element to be searched in the list."
   ]
  },
  {
   "cell_type": "code",
   "execution_count": 10,
   "id": "dccc81e4",
   "metadata": {},
   "outputs": [],
   "source": [
    "def binary_search(arr, item):\n",
    "    low = 0\n",
    "    high = len(arr) - 1\n",
    "\n",
    "    while low <= high:\n",
    "        mid = (low + high) // 2\n",
    "\n",
    "        if arr[mid] == item:\n",
    "            return mid\n",
    "        elif arr[mid] < item:\n",
    "            low = mid + 1\n",
    "        else:\n",
    "            high = mid - 1\n",
    "\n",
    "    # If the item is not found, return -1\n",
    "    return -1\n"
   ]
  },
  {
   "cell_type": "code",
   "execution_count": 13,
   "id": "ec2f8ae9",
   "metadata": {},
   "outputs": [
    {
     "name": "stdout",
     "output_type": "stream",
     "text": [
      "6 found at index 2\n"
     ]
    }
   ],
   "source": [
    "# Example usage\n",
    "my_list = [2, 4, 6, 8, 10, 12]\n",
    "item = 6\n",
    "\n",
    "index = binary_search(my_list, item)\n",
    "\n",
    "if index != -1:\n",
    "    print(f\"{item} found at index {index}\")\n",
    "else:\n",
    "    print(f\"{item} not found\")\n"
   ]
  }
 ],
 "metadata": {
  "kernelspec": {
   "display_name": "Python 3 (ipykernel)",
   "language": "python",
   "name": "python3"
  },
  "language_info": {
   "codemirror_mode": {
    "name": "ipython",
    "version": 3
   },
   "file_extension": ".py",
   "mimetype": "text/x-python",
   "name": "python",
   "nbconvert_exporter": "python",
   "pygments_lexer": "ipython3",
   "version": "3.10.10"
  }
 },
 "nbformat": 4,
 "nbformat_minor": 5
}
